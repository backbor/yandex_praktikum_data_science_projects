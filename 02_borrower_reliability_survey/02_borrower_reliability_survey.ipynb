{
 "cells": [
  {
   "cell_type": "markdown",
   "id": "56c62c0e",
   "metadata": {
    "toc": true
   },
   "source": [
    "<h1>Исследование надежности заемщиков<span class=\"tocSkip\"></span></h1>\n",
    "<div class=\"toc\"><ul class=\"toc-item\"><li><span><a href=\"#Постановка-задачи.\" data-toc-modified-id=\"Постановка-задачи.-1\"><span class=\"toc-item-num\">1&nbsp;&nbsp;</span>Постановка задачи.</a></span><ul class=\"toc-item\"><li><span><a href=\"#Описание-данных\" data-toc-modified-id=\"Описание-данных-1.1\"><span class=\"toc-item-num\">1.1&nbsp;&nbsp;</span>Описание данных</a></span></li></ul></li><li><span><a href=\"#Ознакомление-с-данными\" data-toc-modified-id=\"Ознакомление-с-данными-2\"><span class=\"toc-item-num\">2&nbsp;&nbsp;</span>Ознакомление с данными</a></span><ul class=\"toc-item\"><li><span><a href=\"#Создадим-датафрейм-из-файла-данных.-Выведем-первыее-20-строк.\" data-toc-modified-id=\"Создадим-датафрейм-из-файла-данных.-Выведем-первыее-20-строк.-2.1\"><span class=\"toc-item-num\">2.1&nbsp;&nbsp;</span>Создадим датафрейм из файла данных. Выведем первыее 20 строк.</a></span></li><li><span><a href=\"#Получим-информацию-о-датафрейме.\" data-toc-modified-id=\"Получим-информацию-о-датафрейме.-2.2\"><span class=\"toc-item-num\">2.2&nbsp;&nbsp;</span>Получим информацию о датафрейме.</a></span></li></ul></li><li><span><a href=\"#Предобработка-данных\" data-toc-modified-id=\"Предобработка-данных-3\"><span class=\"toc-item-num\">3&nbsp;&nbsp;</span>Предобработка данных</a></span><ul class=\"toc-item\"><li><span><a href=\"#Посчитаем-количество-пропущенных-значений-для-каждого-столбца.\" data-toc-modified-id=\"Посчитаем-количество-пропущенных-значений-для-каждого-столбца.-3.1\"><span class=\"toc-item-num\">3.1&nbsp;&nbsp;</span>Посчитаем количество пропущенных значений для каждого столбца.</a></span></li><li><span><a href=\"#Заполним-пропуски-в--столбце-total_income\" data-toc-modified-id=\"Заполним-пропуски-в--столбце-total_income-3.2\"><span class=\"toc-item-num\">3.2&nbsp;&nbsp;</span>Заполним пропуски в  столбце total_income</a></span></li><li><span><a href=\"#Обработка-аномальных-значений\" data-toc-modified-id=\"Обработка-аномальных-значений-3.3\"><span class=\"toc-item-num\">3.3&nbsp;&nbsp;</span>Обработка аномальных значений</a></span></li></ul></li><li><span><a href=\"#Изменение-типов-данных\" data-toc-modified-id=\"Изменение-типов-данных-4\"><span class=\"toc-item-num\">4&nbsp;&nbsp;</span>Изменение типов данных</a></span></li><li><span><a href=\"#Обработка-дубликатов.\" data-toc-modified-id=\"Обработка-дубликатов.-5\"><span class=\"toc-item-num\">5&nbsp;&nbsp;</span>Обработка дубликатов.</a></span></li><li><span><a href=\"#Категоризация-данных\" data-toc-modified-id=\"Категоризация-данных-6\"><span class=\"toc-item-num\">6&nbsp;&nbsp;</span>Категоризация данных</a></span></li><li><span><a href=\"#Исследование-целевых-зависимостей\" data-toc-modified-id=\"Исследование-целевых-зависимостей-7\"><span class=\"toc-item-num\">7&nbsp;&nbsp;</span>Исследование целевых зависимостей</a></span><ul class=\"toc-item\"><li><span><a href=\"#Есть-ли-зависимость-между-количеством-детей-и-возвратом-кредита-в-срок?\" data-toc-modified-id=\"Есть-ли-зависимость-между-количеством-детей-и-возвратом-кредита-в-срок?-7.1\"><span class=\"toc-item-num\">7.1&nbsp;&nbsp;</span>Есть ли зависимость между количеством детей и возвратом кредита в срок?</a></span><ul class=\"toc-item\"><li><span><a href=\"#Вывод:\" data-toc-modified-id=\"Вывод:-7.1.1\"><span class=\"toc-item-num\">7.1.1&nbsp;&nbsp;</span>Вывод:</a></span></li></ul></li><li><span><a href=\"#Есть-ли-зависимость-между-семейным-положением-и-возвратом-кредита-в-срок?\" data-toc-modified-id=\"Есть-ли-зависимость-между-семейным-положением-и-возвратом-кредита-в-срок?-7.2\"><span class=\"toc-item-num\">7.2&nbsp;&nbsp;</span>Есть ли зависимость между семейным положением и возвратом кредита в срок?</a></span><ul class=\"toc-item\"><li><span><a href=\"#Вывод:\" data-toc-modified-id=\"Вывод:-7.2.1\"><span class=\"toc-item-num\">7.2.1&nbsp;&nbsp;</span>Вывод:</a></span></li></ul></li><li><span><a href=\"#Есть-ли-зависимость-между-уровнем-дохода-и-возвратом-кредита-в-срок?\" data-toc-modified-id=\"Есть-ли-зависимость-между-уровнем-дохода-и-возвратом-кредита-в-срок?-7.3\"><span class=\"toc-item-num\">7.3&nbsp;&nbsp;</span>Есть ли зависимость между уровнем дохода и возвратом кредита в срок?</a></span><ul class=\"toc-item\"><li><span><a href=\"#Вывод:\" data-toc-modified-id=\"Вывод:-7.3.1\"><span class=\"toc-item-num\">7.3.1&nbsp;&nbsp;</span>Вывод:</a></span></li></ul></li><li><span><a href=\"#Как-разные-цели-кредита-влияют-на-его-возврат-в-срок?\" data-toc-modified-id=\"Как-разные-цели-кредита-влияют-на-его-возврат-в-срок?-7.4\"><span class=\"toc-item-num\">7.4&nbsp;&nbsp;</span>Как разные цели кредита влияют на его возврат в срок?</a></span></li></ul></li><li><span><a href=\"#Заключение.-Итоговая-таблица\" data-toc-modified-id=\"Заключение.-Итоговая-таблица-8\"><span class=\"toc-item-num\">8&nbsp;&nbsp;</span>Заключение. Итоговая таблица</a></span></li><li><span><a href=\"#Выводы.\" data-toc-modified-id=\"Выводы.-9\"><span class=\"toc-item-num\">9&nbsp;&nbsp;</span>Выводы.</a></span></li></ul></div>"
   ]
  },
  {
   "cell_type": "markdown",
   "id": "2a2dfa05",
   "metadata": {},
   "source": [
    "## Постановка задачи."
   ]
  },
  {
   "cell_type": "markdown",
   "id": "032f4352",
   "metadata": {},
   "source": [
    "Заказчик — кредитный отдел банка. Нужно разобраться, влияет ли семейное положение, количество детей клиента, уровень дохода и цель кредита на факт погашения кредита в срок. Входные данные от банка — статистика о платёжеспособности клиентов.\n",
    "Результаты исследования будут учтены при построении модели кредитного скоринга — специальной системы, которая оценивает способность потенциального заёмщика вернуть кредит банку."
   ]
  },
  {
   "cell_type": "markdown",
   "id": "e55c23d1",
   "metadata": {},
   "source": [
    "### Описание данных"
   ]
  },
  {
   "cell_type": "markdown",
   "id": "12412b1d",
   "metadata": {},
   "source": [
    "Описание данных\n",
    "- children — количество детей в семье\n",
    "- days_employed — общий трудовой стаж в днях\n",
    "- dob_years — возраст клиента в годах\n",
    "- education — уровень образования клиента\n",
    "- education_id — идентификатор уровня образования\n",
    "- family_status — семейное положение\n",
    "- family_status_id — идентификатор семейного положения\n",
    "- gender — пол клиента\n",
    "- income_type — тип занятости\n",
    "- debt — имел ли задолженность по возврату кредитов\n",
    "- total_income — ежемесячный доход\n",
    "- purpose — цель получения кредита"
   ]
  },
  {
   "cell_type": "markdown",
   "id": "d52620cb",
   "metadata": {},
   "source": [
    "##  Ознакомление с данными"
   ]
  },
  {
   "cell_type": "markdown",
   "id": "656f65e6",
   "metadata": {},
   "source": [
    "###   Создадим датафрейм из файла данных. Выведем первыее 20 строк."
   ]
  },
  {
   "cell_type": "code",
   "execution_count": 45,
   "id": "e72a0717",
   "metadata": {
    "scrolled": true
   },
   "outputs": [
    {
     "data": {
      "text/html": [
       "<div>\n",
       "<style scoped>\n",
       "    .dataframe tbody tr th:only-of-type {\n",
       "        vertical-align: middle;\n",
       "    }\n",
       "\n",
       "    .dataframe tbody tr th {\n",
       "        vertical-align: top;\n",
       "    }\n",
       "\n",
       "    .dataframe thead th {\n",
       "        text-align: right;\n",
       "    }\n",
       "</style>\n",
       "<table border=\"1\" class=\"dataframe\">\n",
       "  <thead>\n",
       "    <tr style=\"text-align: right;\">\n",
       "      <th></th>\n",
       "      <th>children</th>\n",
       "      <th>days_employed</th>\n",
       "      <th>dob_years</th>\n",
       "      <th>education</th>\n",
       "      <th>education_id</th>\n",
       "      <th>family_status</th>\n",
       "      <th>family_status_id</th>\n",
       "      <th>gender</th>\n",
       "      <th>income_type</th>\n",
       "      <th>debt</th>\n",
       "      <th>total_income</th>\n",
       "      <th>purpose</th>\n",
       "    </tr>\n",
       "  </thead>\n",
       "  <tbody>\n",
       "    <tr>\n",
       "      <th>0</th>\n",
       "      <td>1</td>\n",
       "      <td>-8437.673028</td>\n",
       "      <td>42</td>\n",
       "      <td>высшее</td>\n",
       "      <td>0</td>\n",
       "      <td>женат / замужем</td>\n",
       "      <td>0</td>\n",
       "      <td>F</td>\n",
       "      <td>сотрудник</td>\n",
       "      <td>0</td>\n",
       "      <td>253875.639453</td>\n",
       "      <td>покупка жилья</td>\n",
       "    </tr>\n",
       "    <tr>\n",
       "      <th>1</th>\n",
       "      <td>1</td>\n",
       "      <td>-4024.803754</td>\n",
       "      <td>36</td>\n",
       "      <td>среднее</td>\n",
       "      <td>1</td>\n",
       "      <td>женат / замужем</td>\n",
       "      <td>0</td>\n",
       "      <td>F</td>\n",
       "      <td>сотрудник</td>\n",
       "      <td>0</td>\n",
       "      <td>112080.014102</td>\n",
       "      <td>приобретение автомобиля</td>\n",
       "    </tr>\n",
       "    <tr>\n",
       "      <th>2</th>\n",
       "      <td>0</td>\n",
       "      <td>-5623.422610</td>\n",
       "      <td>33</td>\n",
       "      <td>Среднее</td>\n",
       "      <td>1</td>\n",
       "      <td>женат / замужем</td>\n",
       "      <td>0</td>\n",
       "      <td>M</td>\n",
       "      <td>сотрудник</td>\n",
       "      <td>0</td>\n",
       "      <td>145885.952297</td>\n",
       "      <td>покупка жилья</td>\n",
       "    </tr>\n",
       "    <tr>\n",
       "      <th>3</th>\n",
       "      <td>3</td>\n",
       "      <td>-4124.747207</td>\n",
       "      <td>32</td>\n",
       "      <td>среднее</td>\n",
       "      <td>1</td>\n",
       "      <td>женат / замужем</td>\n",
       "      <td>0</td>\n",
       "      <td>M</td>\n",
       "      <td>сотрудник</td>\n",
       "      <td>0</td>\n",
       "      <td>267628.550329</td>\n",
       "      <td>дополнительное образование</td>\n",
       "    </tr>\n",
       "    <tr>\n",
       "      <th>4</th>\n",
       "      <td>0</td>\n",
       "      <td>340266.072047</td>\n",
       "      <td>53</td>\n",
       "      <td>среднее</td>\n",
       "      <td>1</td>\n",
       "      <td>гражданский брак</td>\n",
       "      <td>1</td>\n",
       "      <td>F</td>\n",
       "      <td>пенсионер</td>\n",
       "      <td>0</td>\n",
       "      <td>158616.077870</td>\n",
       "      <td>сыграть свадьбу</td>\n",
       "    </tr>\n",
       "    <tr>\n",
       "      <th>5</th>\n",
       "      <td>0</td>\n",
       "      <td>-926.185831</td>\n",
       "      <td>27</td>\n",
       "      <td>высшее</td>\n",
       "      <td>0</td>\n",
       "      <td>гражданский брак</td>\n",
       "      <td>1</td>\n",
       "      <td>M</td>\n",
       "      <td>компаньон</td>\n",
       "      <td>0</td>\n",
       "      <td>255763.565419</td>\n",
       "      <td>покупка жилья</td>\n",
       "    </tr>\n",
       "    <tr>\n",
       "      <th>6</th>\n",
       "      <td>0</td>\n",
       "      <td>-2879.202052</td>\n",
       "      <td>43</td>\n",
       "      <td>высшее</td>\n",
       "      <td>0</td>\n",
       "      <td>женат / замужем</td>\n",
       "      <td>0</td>\n",
       "      <td>F</td>\n",
       "      <td>компаньон</td>\n",
       "      <td>0</td>\n",
       "      <td>240525.971920</td>\n",
       "      <td>операции с жильем</td>\n",
       "    </tr>\n",
       "    <tr>\n",
       "      <th>7</th>\n",
       "      <td>0</td>\n",
       "      <td>-152.779569</td>\n",
       "      <td>50</td>\n",
       "      <td>СРЕДНЕЕ</td>\n",
       "      <td>1</td>\n",
       "      <td>женат / замужем</td>\n",
       "      <td>0</td>\n",
       "      <td>M</td>\n",
       "      <td>сотрудник</td>\n",
       "      <td>0</td>\n",
       "      <td>135823.934197</td>\n",
       "      <td>образование</td>\n",
       "    </tr>\n",
       "    <tr>\n",
       "      <th>8</th>\n",
       "      <td>2</td>\n",
       "      <td>-6929.865299</td>\n",
       "      <td>35</td>\n",
       "      <td>ВЫСШЕЕ</td>\n",
       "      <td>0</td>\n",
       "      <td>гражданский брак</td>\n",
       "      <td>1</td>\n",
       "      <td>F</td>\n",
       "      <td>сотрудник</td>\n",
       "      <td>0</td>\n",
       "      <td>95856.832424</td>\n",
       "      <td>на проведение свадьбы</td>\n",
       "    </tr>\n",
       "    <tr>\n",
       "      <th>9</th>\n",
       "      <td>0</td>\n",
       "      <td>-2188.756445</td>\n",
       "      <td>41</td>\n",
       "      <td>среднее</td>\n",
       "      <td>1</td>\n",
       "      <td>женат / замужем</td>\n",
       "      <td>0</td>\n",
       "      <td>M</td>\n",
       "      <td>сотрудник</td>\n",
       "      <td>0</td>\n",
       "      <td>144425.938277</td>\n",
       "      <td>покупка жилья для семьи</td>\n",
       "    </tr>\n",
       "    <tr>\n",
       "      <th>10</th>\n",
       "      <td>2</td>\n",
       "      <td>-4171.483647</td>\n",
       "      <td>36</td>\n",
       "      <td>высшее</td>\n",
       "      <td>0</td>\n",
       "      <td>женат / замужем</td>\n",
       "      <td>0</td>\n",
       "      <td>M</td>\n",
       "      <td>компаньон</td>\n",
       "      <td>0</td>\n",
       "      <td>113943.491460</td>\n",
       "      <td>покупка недвижимости</td>\n",
       "    </tr>\n",
       "    <tr>\n",
       "      <th>11</th>\n",
       "      <td>0</td>\n",
       "      <td>-792.701887</td>\n",
       "      <td>40</td>\n",
       "      <td>среднее</td>\n",
       "      <td>1</td>\n",
       "      <td>женат / замужем</td>\n",
       "      <td>0</td>\n",
       "      <td>F</td>\n",
       "      <td>сотрудник</td>\n",
       "      <td>0</td>\n",
       "      <td>77069.234271</td>\n",
       "      <td>покупка коммерческой недвижимости</td>\n",
       "    </tr>\n",
       "    <tr>\n",
       "      <th>12</th>\n",
       "      <td>0</td>\n",
       "      <td>NaN</td>\n",
       "      <td>65</td>\n",
       "      <td>среднее</td>\n",
       "      <td>1</td>\n",
       "      <td>гражданский брак</td>\n",
       "      <td>1</td>\n",
       "      <td>M</td>\n",
       "      <td>пенсионер</td>\n",
       "      <td>0</td>\n",
       "      <td>NaN</td>\n",
       "      <td>сыграть свадьбу</td>\n",
       "    </tr>\n",
       "    <tr>\n",
       "      <th>13</th>\n",
       "      <td>0</td>\n",
       "      <td>-1846.641941</td>\n",
       "      <td>54</td>\n",
       "      <td>неоконченное высшее</td>\n",
       "      <td>2</td>\n",
       "      <td>женат / замужем</td>\n",
       "      <td>0</td>\n",
       "      <td>F</td>\n",
       "      <td>сотрудник</td>\n",
       "      <td>0</td>\n",
       "      <td>130458.228857</td>\n",
       "      <td>приобретение автомобиля</td>\n",
       "    </tr>\n",
       "    <tr>\n",
       "      <th>14</th>\n",
       "      <td>0</td>\n",
       "      <td>-1844.956182</td>\n",
       "      <td>56</td>\n",
       "      <td>высшее</td>\n",
       "      <td>0</td>\n",
       "      <td>гражданский брак</td>\n",
       "      <td>1</td>\n",
       "      <td>F</td>\n",
       "      <td>компаньон</td>\n",
       "      <td>1</td>\n",
       "      <td>165127.911772</td>\n",
       "      <td>покупка жилой недвижимости</td>\n",
       "    </tr>\n",
       "    <tr>\n",
       "      <th>15</th>\n",
       "      <td>1</td>\n",
       "      <td>-972.364419</td>\n",
       "      <td>26</td>\n",
       "      <td>среднее</td>\n",
       "      <td>1</td>\n",
       "      <td>женат / замужем</td>\n",
       "      <td>0</td>\n",
       "      <td>F</td>\n",
       "      <td>сотрудник</td>\n",
       "      <td>0</td>\n",
       "      <td>116820.904450</td>\n",
       "      <td>строительство собственной недвижимости</td>\n",
       "    </tr>\n",
       "    <tr>\n",
       "      <th>16</th>\n",
       "      <td>0</td>\n",
       "      <td>-1719.934226</td>\n",
       "      <td>35</td>\n",
       "      <td>среднее</td>\n",
       "      <td>1</td>\n",
       "      <td>женат / замужем</td>\n",
       "      <td>0</td>\n",
       "      <td>F</td>\n",
       "      <td>сотрудник</td>\n",
       "      <td>0</td>\n",
       "      <td>289202.704229</td>\n",
       "      <td>недвижимость</td>\n",
       "    </tr>\n",
       "    <tr>\n",
       "      <th>17</th>\n",
       "      <td>0</td>\n",
       "      <td>-2369.999720</td>\n",
       "      <td>33</td>\n",
       "      <td>высшее</td>\n",
       "      <td>0</td>\n",
       "      <td>гражданский брак</td>\n",
       "      <td>1</td>\n",
       "      <td>M</td>\n",
       "      <td>сотрудник</td>\n",
       "      <td>0</td>\n",
       "      <td>90410.586745</td>\n",
       "      <td>строительство недвижимости</td>\n",
       "    </tr>\n",
       "    <tr>\n",
       "      <th>18</th>\n",
       "      <td>0</td>\n",
       "      <td>400281.136913</td>\n",
       "      <td>53</td>\n",
       "      <td>среднее</td>\n",
       "      <td>1</td>\n",
       "      <td>вдовец / вдова</td>\n",
       "      <td>2</td>\n",
       "      <td>F</td>\n",
       "      <td>пенсионер</td>\n",
       "      <td>0</td>\n",
       "      <td>56823.777243</td>\n",
       "      <td>на покупку подержанного автомобиля</td>\n",
       "    </tr>\n",
       "    <tr>\n",
       "      <th>19</th>\n",
       "      <td>0</td>\n",
       "      <td>-10038.818549</td>\n",
       "      <td>48</td>\n",
       "      <td>СРЕДНЕЕ</td>\n",
       "      <td>1</td>\n",
       "      <td>в разводе</td>\n",
       "      <td>3</td>\n",
       "      <td>F</td>\n",
       "      <td>сотрудник</td>\n",
       "      <td>0</td>\n",
       "      <td>242831.107982</td>\n",
       "      <td>на покупку своего автомобиля</td>\n",
       "    </tr>\n",
       "  </tbody>\n",
       "</table>\n",
       "</div>"
      ],
      "text/plain": [
       "    children  days_employed  dob_years            education  education_id  \\\n",
       "0          1   -8437.673028         42               высшее             0   \n",
       "1          1   -4024.803754         36              среднее             1   \n",
       "2          0   -5623.422610         33              Среднее             1   \n",
       "3          3   -4124.747207         32              среднее             1   \n",
       "4          0  340266.072047         53              среднее             1   \n",
       "5          0    -926.185831         27               высшее             0   \n",
       "6          0   -2879.202052         43               высшее             0   \n",
       "7          0    -152.779569         50              СРЕДНЕЕ             1   \n",
       "8          2   -6929.865299         35               ВЫСШЕЕ             0   \n",
       "9          0   -2188.756445         41              среднее             1   \n",
       "10         2   -4171.483647         36               высшее             0   \n",
       "11         0    -792.701887         40              среднее             1   \n",
       "12         0            NaN         65              среднее             1   \n",
       "13         0   -1846.641941         54  неоконченное высшее             2   \n",
       "14         0   -1844.956182         56               высшее             0   \n",
       "15         1    -972.364419         26              среднее             1   \n",
       "16         0   -1719.934226         35              среднее             1   \n",
       "17         0   -2369.999720         33               высшее             0   \n",
       "18         0  400281.136913         53              среднее             1   \n",
       "19         0  -10038.818549         48              СРЕДНЕЕ             1   \n",
       "\n",
       "       family_status  family_status_id gender income_type  debt  \\\n",
       "0    женат / замужем                 0      F   сотрудник     0   \n",
       "1    женат / замужем                 0      F   сотрудник     0   \n",
       "2    женат / замужем                 0      M   сотрудник     0   \n",
       "3    женат / замужем                 0      M   сотрудник     0   \n",
       "4   гражданский брак                 1      F   пенсионер     0   \n",
       "5   гражданский брак                 1      M   компаньон     0   \n",
       "6    женат / замужем                 0      F   компаньон     0   \n",
       "7    женат / замужем                 0      M   сотрудник     0   \n",
       "8   гражданский брак                 1      F   сотрудник     0   \n",
       "9    женат / замужем                 0      M   сотрудник     0   \n",
       "10   женат / замужем                 0      M   компаньон     0   \n",
       "11   женат / замужем                 0      F   сотрудник     0   \n",
       "12  гражданский брак                 1      M   пенсионер     0   \n",
       "13   женат / замужем                 0      F   сотрудник     0   \n",
       "14  гражданский брак                 1      F   компаньон     1   \n",
       "15   женат / замужем                 0      F   сотрудник     0   \n",
       "16   женат / замужем                 0      F   сотрудник     0   \n",
       "17  гражданский брак                 1      M   сотрудник     0   \n",
       "18    вдовец / вдова                 2      F   пенсионер     0   \n",
       "19         в разводе                 3      F   сотрудник     0   \n",
       "\n",
       "     total_income                                 purpose  \n",
       "0   253875.639453                           покупка жилья  \n",
       "1   112080.014102                 приобретение автомобиля  \n",
       "2   145885.952297                           покупка жилья  \n",
       "3   267628.550329              дополнительное образование  \n",
       "4   158616.077870                         сыграть свадьбу  \n",
       "5   255763.565419                           покупка жилья  \n",
       "6   240525.971920                       операции с жильем  \n",
       "7   135823.934197                             образование  \n",
       "8    95856.832424                   на проведение свадьбы  \n",
       "9   144425.938277                 покупка жилья для семьи  \n",
       "10  113943.491460                    покупка недвижимости  \n",
       "11   77069.234271       покупка коммерческой недвижимости  \n",
       "12            NaN                         сыграть свадьбу  \n",
       "13  130458.228857                 приобретение автомобиля  \n",
       "14  165127.911772              покупка жилой недвижимости  \n",
       "15  116820.904450  строительство собственной недвижимости  \n",
       "16  289202.704229                            недвижимость  \n",
       "17   90410.586745              строительство недвижимости  \n",
       "18   56823.777243      на покупку подержанного автомобиля  \n",
       "19  242831.107982            на покупку своего автомобиля  "
      ]
     },
     "execution_count": 45,
     "metadata": {},
     "output_type": "execute_result"
    }
   ],
   "source": [
    "import pandas as pd\n",
    "\n",
    "try:\n",
    "    data = pd.read_csv('data.csv')\n",
    "except:\n",
    "    data = pd.read_csv('/datasets/data.csv')\n",
    "data.head(20)"
   ]
  },
  {
   "cell_type": "markdown",
   "id": "b65ac8ca",
   "metadata": {},
   "source": [
    "###  Получим информацию о датафрейме."
   ]
  },
  {
   "cell_type": "code",
   "execution_count": 46,
   "id": "7449097f",
   "metadata": {},
   "outputs": [
    {
     "name": "stdout",
     "output_type": "stream",
     "text": [
      "<class 'pandas.core.frame.DataFrame'>\n",
      "RangeIndex: 21525 entries, 0 to 21524\n",
      "Data columns (total 12 columns):\n",
      " #   Column            Non-Null Count  Dtype  \n",
      "---  ------            --------------  -----  \n",
      " 0   children          21525 non-null  int64  \n",
      " 1   days_employed     19351 non-null  float64\n",
      " 2   dob_years         21525 non-null  int64  \n",
      " 3   education         21525 non-null  object \n",
      " 4   education_id      21525 non-null  int64  \n",
      " 5   family_status     21525 non-null  object \n",
      " 6   family_status_id  21525 non-null  int64  \n",
      " 7   gender            21525 non-null  object \n",
      " 8   income_type       21525 non-null  object \n",
      " 9   debt              21525 non-null  int64  \n",
      " 10  total_income      19351 non-null  float64\n",
      " 11  purpose           21525 non-null  object \n",
      "dtypes: float64(2), int64(5), object(5)\n",
      "memory usage: 2.0+ MB\n"
     ]
    },
    {
     "data": {
      "text/plain": [
       "None"
      ]
     },
     "metadata": {},
     "output_type": "display_data"
    },
    {
     "data": {
      "text/html": [
       "<div>\n",
       "<style scoped>\n",
       "    .dataframe tbody tr th:only-of-type {\n",
       "        vertical-align: middle;\n",
       "    }\n",
       "\n",
       "    .dataframe tbody tr th {\n",
       "        vertical-align: top;\n",
       "    }\n",
       "\n",
       "    .dataframe thead th {\n",
       "        text-align: right;\n",
       "    }\n",
       "</style>\n",
       "<table border=\"1\" class=\"dataframe\">\n",
       "  <thead>\n",
       "    <tr style=\"text-align: right;\">\n",
       "      <th></th>\n",
       "      <th>children</th>\n",
       "      <th>days_employed</th>\n",
       "      <th>dob_years</th>\n",
       "      <th>education_id</th>\n",
       "      <th>family_status_id</th>\n",
       "      <th>debt</th>\n",
       "      <th>total_income</th>\n",
       "    </tr>\n",
       "  </thead>\n",
       "  <tbody>\n",
       "    <tr>\n",
       "      <th>count</th>\n",
       "      <td>21525.000000</td>\n",
       "      <td>19351.000000</td>\n",
       "      <td>21525.000000</td>\n",
       "      <td>21525.000000</td>\n",
       "      <td>21525.000000</td>\n",
       "      <td>21525.000000</td>\n",
       "      <td>1.935100e+04</td>\n",
       "    </tr>\n",
       "    <tr>\n",
       "      <th>mean</th>\n",
       "      <td>0.538908</td>\n",
       "      <td>63046.497661</td>\n",
       "      <td>43.293380</td>\n",
       "      <td>0.817236</td>\n",
       "      <td>0.972544</td>\n",
       "      <td>0.080883</td>\n",
       "      <td>1.674223e+05</td>\n",
       "    </tr>\n",
       "    <tr>\n",
       "      <th>std</th>\n",
       "      <td>1.381587</td>\n",
       "      <td>140827.311974</td>\n",
       "      <td>12.574584</td>\n",
       "      <td>0.548138</td>\n",
       "      <td>1.420324</td>\n",
       "      <td>0.272661</td>\n",
       "      <td>1.029716e+05</td>\n",
       "    </tr>\n",
       "    <tr>\n",
       "      <th>min</th>\n",
       "      <td>-1.000000</td>\n",
       "      <td>-18388.949901</td>\n",
       "      <td>0.000000</td>\n",
       "      <td>0.000000</td>\n",
       "      <td>0.000000</td>\n",
       "      <td>0.000000</td>\n",
       "      <td>2.066726e+04</td>\n",
       "    </tr>\n",
       "    <tr>\n",
       "      <th>25%</th>\n",
       "      <td>0.000000</td>\n",
       "      <td>-2747.423625</td>\n",
       "      <td>33.000000</td>\n",
       "      <td>1.000000</td>\n",
       "      <td>0.000000</td>\n",
       "      <td>0.000000</td>\n",
       "      <td>1.030532e+05</td>\n",
       "    </tr>\n",
       "    <tr>\n",
       "      <th>50%</th>\n",
       "      <td>0.000000</td>\n",
       "      <td>-1203.369529</td>\n",
       "      <td>42.000000</td>\n",
       "      <td>1.000000</td>\n",
       "      <td>0.000000</td>\n",
       "      <td>0.000000</td>\n",
       "      <td>1.450179e+05</td>\n",
       "    </tr>\n",
       "    <tr>\n",
       "      <th>75%</th>\n",
       "      <td>1.000000</td>\n",
       "      <td>-291.095954</td>\n",
       "      <td>53.000000</td>\n",
       "      <td>1.000000</td>\n",
       "      <td>1.000000</td>\n",
       "      <td>0.000000</td>\n",
       "      <td>2.034351e+05</td>\n",
       "    </tr>\n",
       "    <tr>\n",
       "      <th>max</th>\n",
       "      <td>20.000000</td>\n",
       "      <td>401755.400475</td>\n",
       "      <td>75.000000</td>\n",
       "      <td>4.000000</td>\n",
       "      <td>4.000000</td>\n",
       "      <td>1.000000</td>\n",
       "      <td>2.265604e+06</td>\n",
       "    </tr>\n",
       "  </tbody>\n",
       "</table>\n",
       "</div>"
      ],
      "text/plain": [
       "           children  days_employed     dob_years  education_id  \\\n",
       "count  21525.000000   19351.000000  21525.000000  21525.000000   \n",
       "mean       0.538908   63046.497661     43.293380      0.817236   \n",
       "std        1.381587  140827.311974     12.574584      0.548138   \n",
       "min       -1.000000  -18388.949901      0.000000      0.000000   \n",
       "25%        0.000000   -2747.423625     33.000000      1.000000   \n",
       "50%        0.000000   -1203.369529     42.000000      1.000000   \n",
       "75%        1.000000    -291.095954     53.000000      1.000000   \n",
       "max       20.000000  401755.400475     75.000000      4.000000   \n",
       "\n",
       "       family_status_id          debt  total_income  \n",
       "count      21525.000000  21525.000000  1.935100e+04  \n",
       "mean           0.972544      0.080883  1.674223e+05  \n",
       "std            1.420324      0.272661  1.029716e+05  \n",
       "min            0.000000      0.000000  2.066726e+04  \n",
       "25%            0.000000      0.000000  1.030532e+05  \n",
       "50%            0.000000      0.000000  1.450179e+05  \n",
       "75%            1.000000      0.000000  2.034351e+05  \n",
       "max            4.000000      1.000000  2.265604e+06  "
      ]
     },
     "execution_count": 46,
     "metadata": {},
     "output_type": "execute_result"
    }
   ],
   "source": [
    "display(data.info())\n",
    "data.describe()"
   ]
  },
  {
   "cell_type": "markdown",
   "id": "ad214315",
   "metadata": {},
   "source": [
    "Выводы: Колонка **children**, **days_employed dob_years** содержит аномальные значения. Колонки **days_employed** и **total_income содержа**т пропуски значений. "
   ]
  },
  {
   "cell_type": "markdown",
   "id": "605212cc",
   "metadata": {},
   "source": [
    "## Предобработка данных"
   ]
  },
  {
   "cell_type": "markdown",
   "id": "072e0807",
   "metadata": {},
   "source": [
    "### Посчитаем количество пропущенных значений для каждого столбца."
   ]
  },
  {
   "cell_type": "code",
   "execution_count": 47,
   "id": "cd0b983b",
   "metadata": {},
   "outputs": [
    {
     "data": {
      "text/plain": [
       "children               0\n",
       "days_employed       2174\n",
       "dob_years              0\n",
       "education              0\n",
       "education_id           0\n",
       "family_status          0\n",
       "family_status_id       0\n",
       "gender                 0\n",
       "income_type            0\n",
       "debt                   0\n",
       "total_income        2174\n",
       "purpose                0\n",
       "dtype: int64"
      ]
     },
     "execution_count": 47,
     "metadata": {},
     "output_type": "execute_result"
    }
   ],
   "source": [
    "(data.isna().sum())"
   ]
  },
  {
   "cell_type": "markdown",
   "id": "a773e363",
   "metadata": {},
   "source": [
    "### Заполним пропуски в  столбце total_income"
   ]
  },
  {
   "cell_type": "markdown",
   "id": "578eacc4",
   "metadata": {},
   "source": [
    "Заполним пропуски в  **столбце total_income** медианным значением по каждому типу из столбца income_type. В данном случае медиана лучшее решение, т.к. позволит не учитывать артефактно большие и малые значения."
   ]
  },
  {
   "cell_type": "code",
   "execution_count": 48,
   "id": "e383f6c5",
   "metadata": {},
   "outputs": [],
   "source": [
    "for i in data['income_type'].unique():\n",
    "    data.loc[(data['income_type'] == i) & (data['total_income'].isna()), 'total_income'] = \\\n",
    "    data.loc[(data['income_type'] == i), 'total_income'].median()"
   ]
  },
  {
   "cell_type": "markdown",
   "id": "630a074a",
   "metadata": {},
   "source": [
    "проверим результат"
   ]
  },
  {
   "cell_type": "code",
   "execution_count": 49,
   "id": "141e6780",
   "metadata": {},
   "outputs": [
    {
     "data": {
      "text/plain": [
       "0"
      ]
     },
     "execution_count": 49,
     "metadata": {},
     "output_type": "execute_result"
    }
   ],
   "source": [
    "data['total_income'].isna().sum()"
   ]
  },
  {
   "cell_type": "markdown",
   "id": "af31aa69",
   "metadata": {},
   "source": [
    "### Обработка аномальных значений"
   ]
  },
  {
   "cell_type": "markdown",
   "id": "369b96c3",
   "metadata": {},
   "source": [
    "Заменим  отрицательные значения days_employed  значения положительными с помощью метода abs().\n"
   ]
  },
  {
   "cell_type": "code",
   "execution_count": 50,
   "id": "c0038564",
   "metadata": {},
   "outputs": [],
   "source": [
    "data['days_employed'] = data['days_employed'].abs()"
   ]
  },
  {
   "cell_type": "markdown",
   "id": "44fa9dcc",
   "metadata": {},
   "source": [
    "Для каждого типа занятости выведем медианное значение трудового стажа days_employed в днях."
   ]
  },
  {
   "cell_type": "code",
   "execution_count": 51,
   "id": "404a3936",
   "metadata": {},
   "outputs": [
    {
     "data": {
      "text/plain": [
       "income_type\n",
       "безработный        366413.652744\n",
       "в декрете            3296.759962\n",
       "госслужащий          2689.368353\n",
       "компаньон            1547.382223\n",
       "пенсионер          365213.306266\n",
       "предприниматель       520.848083\n",
       "сотрудник            1574.202821\n",
       "студент               578.751554\n",
       "Name: days_employed, dtype: float64"
      ]
     },
     "execution_count": 51,
     "metadata": {},
     "output_type": "execute_result"
    }
   ],
   "source": [
    "data.groupby('income_type')['days_employed'].median()"
   ]
  },
  {
   "cell_type": "markdown",
   "id": "d58bcdb7",
   "metadata": {},
   "source": [
    "У двух типов (безработные и пенсионеры) получатся аномально большие значения. Исправить такие значения сложно, поэтому придется оставить их как есть."
   ]
  },
  {
   "cell_type": "markdown",
   "id": "d376ef38",
   "metadata": {},
   "source": [
    "Выведем перечень уникальных значений столбца children."
   ]
  },
  {
   "cell_type": "code",
   "execution_count": 52,
   "id": "2ec6e6f3",
   "metadata": {},
   "outputs": [
    {
     "data": {
      "text/plain": [
       "array([ 1,  0,  3,  2, -1,  4, 20,  5], dtype=int64)"
      ]
     },
     "execution_count": 52,
     "metadata": {},
     "output_type": "execute_result"
    }
   ],
   "source": [
    "data['children'].unique()"
   ]
  },
  {
   "cell_type": "markdown",
   "id": "95cf7268",
   "metadata": {},
   "source": [
    "В столбце children есть два аномальных значения. Удалим строки, в которых встречаются такие аномальные значения из датафрейма data."
   ]
  },
  {
   "cell_type": "code",
   "execution_count": 53,
   "id": "0ed3f032",
   "metadata": {},
   "outputs": [],
   "source": [
    "data = data[(data['children'] != -1) & (data['children'] != 20)]"
   ]
  },
  {
   "cell_type": "markdown",
   "id": "e1a59ce0",
   "metadata": {},
   "source": [
    "Проверим результат"
   ]
  },
  {
   "cell_type": "code",
   "execution_count": 54,
   "id": "f10b37eb",
   "metadata": {},
   "outputs": [
    {
     "data": {
      "text/plain": [
       "array([1, 0, 3, 2, 4, 5], dtype=int64)"
      ]
     },
     "execution_count": 54,
     "metadata": {},
     "output_type": "execute_result"
    }
   ],
   "source": [
    "data['children'].unique()"
   ]
  },
  {
   "cell_type": "markdown",
   "id": "7516e283",
   "metadata": {},
   "source": [
    "Заполним пропуски в столбце days_employed медианными значениями по каждому типу занятости income_type"
   ]
  },
  {
   "cell_type": "code",
   "execution_count": 55,
   "id": "af5983a0",
   "metadata": {},
   "outputs": [],
   "source": [
    "for i in data['income_type'].unique():\n",
    "    data.loc[(data['income_type'] == i) & (data['days_employed'].isna()), 'days_employed'] = \\\n",
    "    data.loc[(data['income_type'] == i), 'days_employed'].median()"
   ]
  },
  {
   "cell_type": "markdown",
   "id": "9975dc56",
   "metadata": {},
   "source": [
    "Убедимся, что пропусков больше нет"
   ]
  },
  {
   "cell_type": "code",
   "execution_count": 56,
   "id": "9300faf9",
   "metadata": {},
   "outputs": [
    {
     "data": {
      "text/plain": [
       "children            0\n",
       "days_employed       0\n",
       "dob_years           0\n",
       "education           0\n",
       "education_id        0\n",
       "family_status       0\n",
       "family_status_id    0\n",
       "gender              0\n",
       "income_type         0\n",
       "debt                0\n",
       "total_income        0\n",
       "purpose             0\n",
       "dtype: int64"
      ]
     },
     "execution_count": 56,
     "metadata": {},
     "output_type": "execute_result"
    }
   ],
   "source": [
    "data.isna().sum()"
   ]
  },
  {
   "cell_type": "markdown",
   "id": "82b329e7",
   "metadata": {},
   "source": [
    "## Изменение типов данных"
   ]
  },
  {
   "cell_type": "markdown",
   "id": "8c2c3bec",
   "metadata": {},
   "source": [
    "Заменим вещественный тип данных в столбце total_income на целочисленный с помощью метода astype()."
   ]
  },
  {
   "cell_type": "code",
   "execution_count": 57,
   "id": "a4c55ee2",
   "metadata": {},
   "outputs": [],
   "source": [
    "data['total_income']= data['total_income'].astype(int)"
   ]
  },
  {
   "cell_type": "markdown",
   "id": "2e4b2cd2",
   "metadata": {},
   "source": [
    "## Обработка дубликатов."
   ]
  },
  {
   "cell_type": "markdown",
   "id": "692e397a",
   "metadata": {},
   "source": [
    "Выведем уникальные значения столбца education"
   ]
  },
  {
   "cell_type": "code",
   "execution_count": 58,
   "id": "a814b144",
   "metadata": {},
   "outputs": [
    {
     "data": {
      "text/plain": [
       "array(['высшее', 'среднее', 'Среднее', 'СРЕДНЕЕ', 'ВЫСШЕЕ',\n",
       "       'неоконченное высшее', 'начальное', 'Высшее',\n",
       "       'НЕОКОНЧЕННОЕ ВЫСШЕЕ', 'Неоконченное высшее', 'НАЧАЛЬНОЕ',\n",
       "       'Начальное', 'Ученая степень', 'УЧЕНАЯ СТЕПЕНЬ', 'ученая степень'],\n",
       "      dtype=object)"
      ]
     },
     "execution_count": 58,
     "metadata": {},
     "output_type": "execute_result"
    }
   ],
   "source": [
    "data['education'].unique()"
   ]
  },
  {
   "cell_type": "markdown",
   "id": "c820542f",
   "metadata": {},
   "source": [
    "Обработаем неявные дубликаты в столбце education. В этом столбце есть одни и те же значения, но записанные по-разному: с использованием заглавных и строчных букв. Приведем их к нижнему регистру."
   ]
  },
  {
   "cell_type": "code",
   "execution_count": 59,
   "id": "9498c11e",
   "metadata": {},
   "outputs": [],
   "source": [
    "data['education'] = data['education'].str.lower()"
   ]
  },
  {
   "cell_type": "markdown",
   "id": "2e201d72",
   "metadata": {},
   "source": [
    "проверим:"
   ]
  },
  {
   "cell_type": "code",
   "execution_count": 60,
   "id": "2cdda2f6",
   "metadata": {},
   "outputs": [
    {
     "data": {
      "text/plain": [
       "array(['высшее', 'среднее', 'неоконченное высшее', 'начальное',\n",
       "       'ученая степень'], dtype=object)"
      ]
     },
     "execution_count": 60,
     "metadata": {},
     "output_type": "execute_result"
    }
   ],
   "source": [
    "data['education'].unique()"
   ]
  },
  {
   "cell_type": "markdown",
   "id": "6932d4a5",
   "metadata": {},
   "source": [
    "Сосчитаем дубликаты:"
   ]
  },
  {
   "cell_type": "code",
   "execution_count": 61,
   "id": "da794e94",
   "metadata": {},
   "outputs": [
    {
     "data": {
      "text/plain": [
       "71"
      ]
     },
     "execution_count": 61,
     "metadata": {},
     "output_type": "execute_result"
    }
   ],
   "source": [
    "data.duplicated().sum()"
   ]
  },
  {
   "cell_type": "markdown",
   "id": "234ac7eb",
   "metadata": {},
   "source": [
    "Удалим дубликаты:"
   ]
  },
  {
   "cell_type": "code",
   "execution_count": 62,
   "id": "a7380211",
   "metadata": {},
   "outputs": [],
   "source": [
    "data = data.drop_duplicates( keep='first')"
   ]
  },
  {
   "cell_type": "markdown",
   "id": "6fe73dec",
   "metadata": {},
   "source": [
    "проверим:"
   ]
  },
  {
   "cell_type": "code",
   "execution_count": 63,
   "id": "4447bc57",
   "metadata": {},
   "outputs": [
    {
     "data": {
      "text/plain": [
       "0"
      ]
     },
     "execution_count": 63,
     "metadata": {},
     "output_type": "execute_result"
    }
   ],
   "source": [
    "data.duplicated().sum()"
   ]
  },
  {
   "cell_type": "markdown",
   "id": "090a973d",
   "metadata": {},
   "source": [
    "## Категоризация данных"
   ]
  },
  {
   "cell_type": "markdown",
   "id": "9ed7dc2f",
   "metadata": {},
   "source": [
    "На основании диапазонов, указанных ниже, создим в датафрейме data столбец total_income_category с категориями:\n",
    "\n",
    "- 0–30000 — 'E';\n",
    "- 30001–50000 — 'D';\n",
    "- 50001–200000 — 'C';\n",
    "- 200001–1000000 — 'B';\n",
    "- 1000001 и выше — 'A'."
   ]
  },
  {
   "cell_type": "markdown",
   "id": "b2af8f15",
   "metadata": {},
   "source": [
    "создадим функцию categorize_income()"
   ]
  },
  {
   "cell_type": "code",
   "execution_count": 64,
   "id": "b38f1740",
   "metadata": {},
   "outputs": [],
   "source": [
    "def categorize_income(total_income):\n",
    "    \n",
    "    if (total_income >0) & (total_income <=30000 ):        \n",
    "        return 'E'\n",
    "    if (total_income >=30001) & (total_income <=50000 ):\n",
    "        return 'D'\n",
    "    if (total_income >=50001) & (total_income <=200000 ):\n",
    "        return 'C'\n",
    "    if (total_income >=200001) & (total_income <=1000000  ):\n",
    "        return 'B'\n",
    "    if total_income >1000001:\n",
    "        return 'A'\n",
    "    "
   ]
  },
  {
   "cell_type": "markdown",
   "id": "e5c09e47",
   "metadata": {},
   "source": [
    "применим функцию с помощью метода apply()"
   ]
  },
  {
   "cell_type": "code",
   "execution_count": 65,
   "id": "332f2f21",
   "metadata": {},
   "outputs": [],
   "source": [
    "data['total_income_category'] = data['total_income'].apply(categorize_income)"
   ]
  },
  {
   "cell_type": "markdown",
   "id": "e4dfd315",
   "metadata": {},
   "source": [
    "выведем на экран перечень уникальных целей взятия кредита из столбца purpose."
   ]
  },
  {
   "cell_type": "code",
   "execution_count": 66,
   "id": "39af8a53",
   "metadata": {},
   "outputs": [
    {
     "data": {
      "text/plain": [
       "array(['покупка жилья', 'приобретение автомобиля',\n",
       "       'дополнительное образование', 'сыграть свадьбу',\n",
       "       'операции с жильем', 'образование', 'на проведение свадьбы',\n",
       "       'покупка жилья для семьи', 'покупка недвижимости',\n",
       "       'покупка коммерческой недвижимости', 'покупка жилой недвижимости',\n",
       "       'строительство собственной недвижимости', 'недвижимость',\n",
       "       'строительство недвижимости', 'на покупку подержанного автомобиля',\n",
       "       'на покупку своего автомобиля',\n",
       "       'операции с коммерческой недвижимостью',\n",
       "       'строительство жилой недвижимости', 'жилье',\n",
       "       'операции со своей недвижимостью', 'автомобили',\n",
       "       'заняться образованием', 'сделка с подержанным автомобилем',\n",
       "       'получение образования', 'автомобиль', 'свадьба',\n",
       "       'получение дополнительного образования', 'покупка своего жилья',\n",
       "       'операции с недвижимостью', 'получение высшего образования',\n",
       "       'свой автомобиль', 'сделка с автомобилем',\n",
       "       'профильное образование', 'высшее образование',\n",
       "       'покупка жилья для сдачи', 'на покупку автомобиля', 'ремонт жилью',\n",
       "       'заняться высшим образованием'], dtype=object)"
      ]
     },
     "execution_count": 66,
     "metadata": {},
     "output_type": "execute_result"
    }
   ],
   "source": [
    "data['purpose'].unique()"
   ]
  },
  {
   "cell_type": "markdown",
   "id": "286222ec",
   "metadata": {},
   "source": [
    "Создадим функцию categorize_purpose(), которая на основании данных из столбца purpose сформирует новый столбец purpose_category, в который войдут следующие категории:\n",
    "- 'операции с автомобилем',\n",
    "- 'операции с недвижимостью',\n",
    "- 'проведение свадьбы',\n",
    "- 'получение образования'."
   ]
  },
  {
   "cell_type": "code",
   "execution_count": 67,
   "id": "19b601e0",
   "metadata": {},
   "outputs": [],
   "source": [
    "# тут можно применить и конструкцию try-except, но по моему менению sring.find по сути и сам такой конструкцией является.\n",
    "def categorize_purpose(s):\n",
    "    if s.find('автом')>= 0:\n",
    "        return 'операции с автомобилем'\n",
    "    if s.find('жил')>= 0  or s.find('движ')>= 0 :\n",
    "        return 'операции с недвижимостью'\n",
    "    if s.find('свад')>= 0 : \n",
    "        return 'проведение свадьбы'\n",
    "    if s.find('образ')>= 0 :\n",
    "        return 'получение образования'\n",
    "    else:\n",
    "        return 'категоря не определена'"
   ]
  },
  {
   "cell_type": "markdown",
   "id": "dd2846e4",
   "metadata": {},
   "source": [
    "применим функцию методом apply()"
   ]
  },
  {
   "cell_type": "code",
   "execution_count": 68,
   "id": "f917b77d",
   "metadata": {},
   "outputs": [],
   "source": [
    "data['purpose_category'] = data['purpose'].apply(categorize_purpose)"
   ]
  },
  {
   "cell_type": "markdown",
   "id": "c6bdb0ef",
   "metadata": {},
   "source": [
    "проверим результат:"
   ]
  },
  {
   "cell_type": "code",
   "execution_count": 69,
   "id": "809103c6",
   "metadata": {},
   "outputs": [
    {
     "data": {
      "text/plain": [
       "children                 0.0\n",
       "days_employed            0.0\n",
       "dob_years                0.0\n",
       "education                0.0\n",
       "education_id             0.0\n",
       "family_status            0.0\n",
       "family_status_id         0.0\n",
       "gender                   0.0\n",
       "income_type              0.0\n",
       "debt                     0.0\n",
       "total_income             0.0\n",
       "purpose                  0.0\n",
       "total_income_category    0.0\n",
       "purpose_category         0.0\n",
       "dtype: float64"
      ]
     },
     "execution_count": 69,
     "metadata": {},
     "output_type": "execute_result"
    }
   ],
   "source": [
    "data[data['purpose_category'] == 'категоря не определена'].sum()"
   ]
  },
  {
   "cell_type": "markdown",
   "id": "f7d56c55",
   "metadata": {},
   "source": [
    "## Исследование целевых зависимостей"
   ]
  },
  {
   "cell_type": "markdown",
   "id": "9cbcb9f3",
   "metadata": {},
   "source": [
    "### Есть ли зависимость между количеством детей и возвратом кредита в срок?"
   ]
  },
  {
   "cell_type": "markdown",
   "id": "1a2d4724",
   "metadata": {},
   "source": [
    "Создадим таблицу, где по категорям количества детей посчитаем количество заемщиков, количество должников, долю должников."
   ]
  },
  {
   "cell_type": "code",
   "execution_count": 70,
   "id": "6b330eb8",
   "metadata": {},
   "outputs": [
    {
     "data": {
      "text/html": [
       "<div>\n",
       "<style scoped>\n",
       "    .dataframe tbody tr th:only-of-type {\n",
       "        vertical-align: middle;\n",
       "    }\n",
       "\n",
       "    .dataframe tbody tr th {\n",
       "        vertical-align: top;\n",
       "    }\n",
       "\n",
       "    .dataframe thead th {\n",
       "        text-align: right;\n",
       "    }\n",
       "</style>\n",
       "<table border=\"1\" class=\"dataframe\">\n",
       "  <thead>\n",
       "    <tr style=\"text-align: right;\">\n",
       "      <th></th>\n",
       "      <th>count</th>\n",
       "      <th>sum</th>\n",
       "      <th>mean</th>\n",
       "    </tr>\n",
       "    <tr>\n",
       "      <th>children</th>\n",
       "      <th></th>\n",
       "      <th></th>\n",
       "      <th></th>\n",
       "    </tr>\n",
       "  </thead>\n",
       "  <tbody>\n",
       "    <tr>\n",
       "      <th>4</th>\n",
       "      <td>41</td>\n",
       "      <td>4</td>\n",
       "      <td>0.097561</td>\n",
       "    </tr>\n",
       "    <tr>\n",
       "      <th>2</th>\n",
       "      <td>2052</td>\n",
       "      <td>194</td>\n",
       "      <td>0.094542</td>\n",
       "    </tr>\n",
       "    <tr>\n",
       "      <th>1</th>\n",
       "      <td>4808</td>\n",
       "      <td>444</td>\n",
       "      <td>0.092346</td>\n",
       "    </tr>\n",
       "    <tr>\n",
       "      <th>3</th>\n",
       "      <td>330</td>\n",
       "      <td>27</td>\n",
       "      <td>0.081818</td>\n",
       "    </tr>\n",
       "    <tr>\n",
       "      <th>0</th>\n",
       "      <td>14091</td>\n",
       "      <td>1063</td>\n",
       "      <td>0.075438</td>\n",
       "    </tr>\n",
       "    <tr>\n",
       "      <th>5</th>\n",
       "      <td>9</td>\n",
       "      <td>0</td>\n",
       "      <td>0.000000</td>\n",
       "    </tr>\n",
       "  </tbody>\n",
       "</table>\n",
       "</div>"
      ],
      "text/plain": [
       "          count   sum      mean\n",
       "children                       \n",
       "4            41     4  0.097561\n",
       "2          2052   194  0.094542\n",
       "1          4808   444  0.092346\n",
       "3           330    27  0.081818\n",
       "0         14091  1063  0.075438\n",
       "5             9     0  0.000000"
      ]
     },
     "execution_count": 70,
     "metadata": {},
     "output_type": "execute_result"
    }
   ],
   "source": [
    "data.groupby('children')['debt'].agg(['count','sum','mean']).sort_values(by='mean', ascending=False)"
   ]
  },
  {
   "cell_type": "markdown",
   "id": "1522d4dc",
   "metadata": {},
   "source": [
    "Так как количество заемщиков с детьми =3, 4, 5 слишком малочисленнно с сравнении с категориями где их 1 и 2\n",
    "то предлагаю их объединить в одну, категории с детьми =1 и =2 сопоставимы по уровню задолженности поэтому их тоже объединим.\n",
    "для этого напишем фунуцию."
   ]
  },
  {
   "cell_type": "code",
   "execution_count": 71,
   "id": "24f074c3",
   "metadata": {},
   "outputs": [],
   "source": [
    "def children_category(row):\n",
    "    if row['children'] == 0:\n",
    "        return 'нет детей'\n",
    "    elif 1 <= row['children'] <= 2:\n",
    "        return '1-2 ребенка'\n",
    "    else:\n",
    "        return '3 и более детей'\n",
    "data['children_category'] = data.apply(children_category, axis=1)\n",
    "#data.head(15)\n"
   ]
  },
  {
   "cell_type": "markdown",
   "id": "e2d440bf",
   "metadata": {},
   "source": [
    "Создадим таблицу, где по категорям количества детей посчитаем количество заемщиков, количество должников, долю должников и % должников для удобства визуального восприятия."
   ]
  },
  {
   "cell_type": "code",
   "execution_count": 72,
   "id": "4c2def8b",
   "metadata": {},
   "outputs": [
    {
     "data": {
      "text/html": [
       "<div>\n",
       "<style scoped>\n",
       "    .dataframe tbody tr th:only-of-type {\n",
       "        vertical-align: middle;\n",
       "    }\n",
       "\n",
       "    .dataframe tbody tr th {\n",
       "        vertical-align: top;\n",
       "    }\n",
       "\n",
       "    .dataframe thead th {\n",
       "        text-align: right;\n",
       "    }\n",
       "</style>\n",
       "<table border=\"1\" class=\"dataframe\">\n",
       "  <thead>\n",
       "    <tr style=\"text-align: right;\">\n",
       "      <th></th>\n",
       "      <th>Количество заемщиков</th>\n",
       "      <th>Количество должников</th>\n",
       "      <th>Доля должников</th>\n",
       "      <th>% должников</th>\n",
       "    </tr>\n",
       "    <tr>\n",
       "      <th>children_category</th>\n",
       "      <th></th>\n",
       "      <th></th>\n",
       "      <th></th>\n",
       "      <th></th>\n",
       "    </tr>\n",
       "  </thead>\n",
       "  <tbody>\n",
       "    <tr>\n",
       "      <th>нет детей</th>\n",
       "      <td>14091</td>\n",
       "      <td>1063</td>\n",
       "      <td>0.075438</td>\n",
       "      <td>7.54%</td>\n",
       "    </tr>\n",
       "    <tr>\n",
       "      <th>3 и более детей</th>\n",
       "      <td>380</td>\n",
       "      <td>31</td>\n",
       "      <td>0.081579</td>\n",
       "      <td>8.16%</td>\n",
       "    </tr>\n",
       "    <tr>\n",
       "      <th>1-2 ребенка</th>\n",
       "      <td>6860</td>\n",
       "      <td>638</td>\n",
       "      <td>0.093003</td>\n",
       "      <td>9.30%</td>\n",
       "    </tr>\n",
       "  </tbody>\n",
       "</table>\n",
       "</div>"
      ],
      "text/plain": [
       "                   Количество заемщиков  Количество должников  Доля должников  \\\n",
       "children_category                                                               \n",
       "нет детей                         14091                  1063        0.075438   \n",
       "3 и более детей                     380                    31        0.081579   \n",
       "1-2 ребенка                        6860                   638        0.093003   \n",
       "\n",
       "                  % должников  \n",
       "children_category              \n",
       "нет детей               7.54%  \n",
       "3 и более детей         8.16%  \n",
       "1-2 ребенка             9.30%  "
      ]
     },
     "execution_count": 72,
     "metadata": {},
     "output_type": "execute_result"
    }
   ],
   "source": [
    "debt_children = data.groupby('children_category')['debt'].agg(['count','sum','mean']).sort_values(by='mean', ascending=True)\n",
    "def part_to_percent (part):\n",
    "    return \"{0:.2%}\".format(part)\n",
    "debt_children['% должников'] = debt_children['mean'].apply(part_to_percent)\n",
    "debt_children = debt_children.rename(columns={'count': 'Количество заемщиков', 'sum':'Количество должников', 'mean':'Доля должников'})\n",
    "debt_children"
   ]
  },
  {
   "cell_type": "markdown",
   "id": "2787ecce",
   "metadata": {},
   "source": [
    "#### Вывод:"
   ]
  },
  {
   "cell_type": "markdown",
   "id": "7a5c1d29",
   "metadata": {},
   "source": [
    "Наименьшее количество должников категория без детей, что может быть объяснено их большей финансовой свободой.\n",
    "На 2м месте категория с количеством детей >=3 объяснений предложить не могу, возможно проблема в количестве выборки = 380\n",
    "замыкают ряд заёмшики с количеством детей 1 и 2."
   ]
  },
  {
   "cell_type": "markdown",
   "id": "ec98df57",
   "metadata": {},
   "source": [
    "Проведем статистические анализ для категориальных признаков хи-квадрат по кростабам  для  выборок \n",
    "с 0 и 1 детьми \n",
    "с 0 и 2\n",
    "и с 1 и 2 "
   ]
  },
  {
   "cell_type": "code",
   "execution_count": 73,
   "id": "0f46f227",
   "metadata": {},
   "outputs": [
    {
     "name": "stdout",
     "output_type": "stream",
     "text": [
      "Результат теста хи-квадрат для сравнения выборок 0 и 1 детей: (13.73615068616518, 0.0002103661683480545, 1, array([[12967.38832742,  1123.61167258],\n",
      "       [ 4424.61167258,   383.38832742]]))\n",
      "Результат теста хи-квадрат для сравнения выборок 0 и 2 детей: (8.839726420391974, 0.002947433247616135, 1, array([[12993.78219662,  1097.21780338],\n",
      "       [ 1892.21780338,   159.78219662]]))\n",
      "Результат теста хи-квадрат для сравнения выборок 1 и 2 детей: (0.058236533471726484, 0.8093051985894079, 1, array([[4360.84198251,  447.15801749],\n",
      "       [1861.15801749,  190.84198251]]))\n"
     ]
    }
   ],
   "source": [
    "#Создадим такие выборки\n",
    "ch_0_1 = data[(data['children'] == 0) | (data['children'] == 1)]\n",
    "ch_0_2 = data[(data['children'] == 0) | (data['children'] == 2)]\n",
    "ch_1_2 = data[(data['children'] == 1) | (data['children'] == 2)]\n",
    "from scipy.stats import chi2_contingency, fisher_exact\n",
    "print ('Результат теста хи-квадрат для сравнения выборок 0 и 1 детей:',chi2_contingency(pd.crosstab(ch_0_1['children'], ch_0_1['debt'])))\n",
    "print ('Результат теста хи-квадрат для сравнения выборок 0 и 2 детей:',chi2_contingency(pd.crosstab(ch_0_2['children'], ch_0_2['debt'])))\n",
    "print ('Результат теста хи-квадрат для сравнения выборок 1 и 2 детей:',chi2_contingency(pd.crosstab(ch_1_2['children'], ch_1_2['debt'])))"
   ]
  },
  {
   "cell_type": "markdown",
   "id": "82e1940b",
   "metadata": {},
   "source": [
    "Итог: то статистически достоверное отличие есть между категорями как с 0 и 1 так и с 0 и 2 детьми\n",
    "а вот категории с 1м и с 2мя детьми не отличаются."
   ]
  },
  {
   "cell_type": "markdown",
   "id": "c633bc6a",
   "metadata": {},
   "source": [
    "### Есть ли зависимость между семейным положением и возвратом кредита в срок?"
   ]
  },
  {
   "cell_type": "code",
   "execution_count": 74,
   "id": "188284af",
   "metadata": {},
   "outputs": [
    {
     "data": {
      "text/html": [
       "<div>\n",
       "<style scoped>\n",
       "    .dataframe tbody tr th:only-of-type {\n",
       "        vertical-align: middle;\n",
       "    }\n",
       "\n",
       "    .dataframe tbody tr th {\n",
       "        vertical-align: top;\n",
       "    }\n",
       "\n",
       "    .dataframe thead th {\n",
       "        text-align: right;\n",
       "    }\n",
       "</style>\n",
       "<table border=\"1\" class=\"dataframe\">\n",
       "  <thead>\n",
       "    <tr style=\"text-align: right;\">\n",
       "      <th></th>\n",
       "      <th>Количество заемщиков</th>\n",
       "      <th>Количество должников</th>\n",
       "      <th>Доля должников</th>\n",
       "      <th>% должников</th>\n",
       "    </tr>\n",
       "    <tr>\n",
       "      <th>family_status</th>\n",
       "      <th></th>\n",
       "      <th></th>\n",
       "      <th></th>\n",
       "      <th></th>\n",
       "    </tr>\n",
       "  </thead>\n",
       "  <tbody>\n",
       "    <tr>\n",
       "      <th>вдовец / вдова</th>\n",
       "      <td>951</td>\n",
       "      <td>63</td>\n",
       "      <td>0.066246</td>\n",
       "      <td>6.62%</td>\n",
       "    </tr>\n",
       "    <tr>\n",
       "      <th>в разводе</th>\n",
       "      <td>1189</td>\n",
       "      <td>84</td>\n",
       "      <td>0.070648</td>\n",
       "      <td>7.06%</td>\n",
       "    </tr>\n",
       "    <tr>\n",
       "      <th>женат / замужем</th>\n",
       "      <td>12261</td>\n",
       "      <td>927</td>\n",
       "      <td>0.075606</td>\n",
       "      <td>7.56%</td>\n",
       "    </tr>\n",
       "    <tr>\n",
       "      <th>гражданский брак</th>\n",
       "      <td>4134</td>\n",
       "      <td>385</td>\n",
       "      <td>0.093130</td>\n",
       "      <td>9.31%</td>\n",
       "    </tr>\n",
       "    <tr>\n",
       "      <th>Не женат / не замужем</th>\n",
       "      <td>2796</td>\n",
       "      <td>273</td>\n",
       "      <td>0.097639</td>\n",
       "      <td>9.76%</td>\n",
       "    </tr>\n",
       "  </tbody>\n",
       "</table>\n",
       "</div>"
      ],
      "text/plain": [
       "                       Количество заемщиков  Количество должников  \\\n",
       "family_status                                                       \n",
       "вдовец / вдова                          951                    63   \n",
       "в разводе                              1189                    84   \n",
       "женат / замужем                       12261                   927   \n",
       "гражданский брак                       4134                   385   \n",
       "Не женат / не замужем                  2796                   273   \n",
       "\n",
       "                       Доля должников % должников  \n",
       "family_status                                      \n",
       "вдовец / вдова               0.066246       6.62%  \n",
       "в разводе                    0.070648       7.06%  \n",
       "женат / замужем              0.075606       7.56%  \n",
       "гражданский брак             0.093130       9.31%  \n",
       "Не женат / не замужем        0.097639       9.76%  "
      ]
     },
     "execution_count": 74,
     "metadata": {},
     "output_type": "execute_result"
    }
   ],
   "source": [
    "debt_fam_status = data.groupby('family_status')['debt'].agg(['count','sum','mean']).sort_values(by='mean', ascending=True)\n",
    "debt_fam_status['% должников'] = debt_fam_status['mean'].apply(part_to_percent)\n",
    "debt_fam_status = debt_fam_status.rename(columns={'count': 'Количество заемщиков', 'sum':'Количество должников', 'mean':'Доля должников'})\n",
    "debt_fam_status"
   ]
  },
  {
   "cell_type": "markdown",
   "id": "cbdceb28",
   "metadata": {},
   "source": [
    "#### Вывод:"
   ]
  },
  {
   "cell_type": "markdown",
   "id": "f875fddd",
   "metadata": {},
   "source": [
    "Вывод: на основе полученной таблицы можем заключить, что наилучшие заемщики - 'катеория вдовец / вдова', немного им уступает категория 'в разводе'Вероятно опть же по причине бОльшей финансовой свободы.\n",
    "На 3м месте категория  'женат / замужем'\n",
    "Сравнительно наихудшие 'Не женат / не замужем'.\n",
    "странно что отличаются категории 'женат / замужем'  и 'гражданский брак', хотя последняя в приерно в 3 раза меньше и возможно причина в этом."
   ]
  },
  {
   "cell_type": "markdown",
   "id": "8cbdb068",
   "metadata": {},
   "source": [
    "### Есть ли зависимость между уровнем дохода и возвратом кредита в срок?"
   ]
  },
  {
   "cell_type": "markdown",
   "id": "b6507fb7",
   "metadata": {},
   "source": [
    "Создадим сводную аналогичную таблиццу."
   ]
  },
  {
   "cell_type": "code",
   "execution_count": 75,
   "id": "5660b1f0",
   "metadata": {},
   "outputs": [
    {
     "data": {
      "text/html": [
       "<div>\n",
       "<style scoped>\n",
       "    .dataframe tbody tr th:only-of-type {\n",
       "        vertical-align: middle;\n",
       "    }\n",
       "\n",
       "    .dataframe tbody tr th {\n",
       "        vertical-align: top;\n",
       "    }\n",
       "\n",
       "    .dataframe thead th {\n",
       "        text-align: right;\n",
       "    }\n",
       "</style>\n",
       "<table border=\"1\" class=\"dataframe\">\n",
       "  <thead>\n",
       "    <tr style=\"text-align: right;\">\n",
       "      <th></th>\n",
       "      <th>Количество заемщиков</th>\n",
       "      <th>Количество должников</th>\n",
       "      <th>Доля должников</th>\n",
       "      <th>% должников</th>\n",
       "    </tr>\n",
       "    <tr>\n",
       "      <th>total_income_category</th>\n",
       "      <th></th>\n",
       "      <th></th>\n",
       "      <th></th>\n",
       "      <th></th>\n",
       "    </tr>\n",
       "  </thead>\n",
       "  <tbody>\n",
       "    <tr>\n",
       "      <th>D</th>\n",
       "      <td>349</td>\n",
       "      <td>21</td>\n",
       "      <td>0.060172</td>\n",
       "      <td>6.02%</td>\n",
       "    </tr>\n",
       "    <tr>\n",
       "      <th>B</th>\n",
       "      <td>5014</td>\n",
       "      <td>354</td>\n",
       "      <td>0.070602</td>\n",
       "      <td>7.06%</td>\n",
       "    </tr>\n",
       "    <tr>\n",
       "      <th>A</th>\n",
       "      <td>25</td>\n",
       "      <td>2</td>\n",
       "      <td>0.080000</td>\n",
       "      <td>8.00%</td>\n",
       "    </tr>\n",
       "    <tr>\n",
       "      <th>C</th>\n",
       "      <td>15921</td>\n",
       "      <td>1353</td>\n",
       "      <td>0.084982</td>\n",
       "      <td>8.50%</td>\n",
       "    </tr>\n",
       "    <tr>\n",
       "      <th>E</th>\n",
       "      <td>22</td>\n",
       "      <td>2</td>\n",
       "      <td>0.090909</td>\n",
       "      <td>9.09%</td>\n",
       "    </tr>\n",
       "  </tbody>\n",
       "</table>\n",
       "</div>"
      ],
      "text/plain": [
       "                       Количество заемщиков  Количество должников  \\\n",
       "total_income_category                                               \n",
       "D                                       349                    21   \n",
       "B                                      5014                   354   \n",
       "A                                        25                     2   \n",
       "C                                     15921                  1353   \n",
       "E                                        22                     2   \n",
       "\n",
       "                       Доля должников % должников  \n",
       "total_income_category                              \n",
       "D                            0.060172       6.02%  \n",
       "B                            0.070602       7.06%  \n",
       "A                            0.080000       8.00%  \n",
       "C                            0.084982       8.50%  \n",
       "E                            0.090909       9.09%  "
      ]
     },
     "execution_count": 75,
     "metadata": {},
     "output_type": "execute_result"
    }
   ],
   "source": [
    "debt_total_inc_cat = data.groupby('total_income_category')['debt'].agg(['count','sum','mean']).sort_values(by='mean', ascending=True)\n",
    "debt_total_inc_cat['% должников'] = debt_total_inc_cat['mean'].apply(part_to_percent)\n",
    "debt_total_inc_cat = debt_total_inc_cat.rename(columns={'count': 'Количество заемщиков', 'sum':'Количество должников', 'mean':'Доля должников'})\n",
    "debt_total_inc_cat"
   ]
  },
  {
   "cell_type": "markdown",
   "id": "489aa369",
   "metadata": {},
   "source": [
    "#### Вывод:"
   ]
  },
  {
   "cell_type": "markdown",
   "id": "409bf642",
   "metadata": {},
   "source": [
    "Категории А и Е настолько малочисленны, что выводы по ним делать не стоит.\n",
    "Посмотрим сопоставимые по представительности  категории В - условно выше стреднего и С - условно средний доход.\n",
    "Люди с средним доходом чаще попадают в категорию должников.\n"
   ]
  },
  {
   "cell_type": "code",
   "execution_count": 76,
   "id": "88341c83",
   "metadata": {},
   "outputs": [
    {
     "name": "stdout",
     "output_type": "stream",
     "text": [
      "Результат теста хи-квадрат для сравнения выборок B и С категоий дохода: (10.33732175796385, 0.001303670356415118, 1, array([[ 4605.16799618,   408.83200382],\n",
      "       [14622.83200382,  1298.16799618]]))\n"
     ]
    }
   ],
   "source": [
    "#уточним достоветность отличия категорий B и C \n",
    "b_c = data[(data['total_income_category'] == 'B') | (data['total_income_category'] == 'C')]\n",
    "print ('Результат теста хи-квадрат для сравнения выборок B и С категоий дохода:',chi2_contingency(pd.crosstab(b_c['total_income_category'], b_c['debt'])))"
   ]
  },
  {
   "cell_type": "markdown",
   "id": "fee4a146",
   "metadata": {},
   "source": [
    "Категории дохода В и С статистически значимо отличаются по доле просроченных кредитов."
   ]
  },
  {
   "cell_type": "markdown",
   "id": "3b993987",
   "metadata": {},
   "source": [
    "### Как разные цели кредита влияют на его возврат в срок?"
   ]
  },
  {
   "cell_type": "code",
   "execution_count": 77,
   "id": "18fec6a4",
   "metadata": {},
   "outputs": [
    {
     "data": {
      "text/html": [
       "<div>\n",
       "<style scoped>\n",
       "    .dataframe tbody tr th:only-of-type {\n",
       "        vertical-align: middle;\n",
       "    }\n",
       "\n",
       "    .dataframe tbody tr th {\n",
       "        vertical-align: top;\n",
       "    }\n",
       "\n",
       "    .dataframe thead th {\n",
       "        text-align: right;\n",
       "    }\n",
       "</style>\n",
       "<table border=\"1\" class=\"dataframe\">\n",
       "  <thead>\n",
       "    <tr style=\"text-align: right;\">\n",
       "      <th></th>\n",
       "      <th>Количество заемщиков</th>\n",
       "      <th>Количество должников</th>\n",
       "      <th>Доля должников</th>\n",
       "      <th>% должников</th>\n",
       "    </tr>\n",
       "    <tr>\n",
       "      <th>purpose_category</th>\n",
       "      <th></th>\n",
       "      <th></th>\n",
       "      <th></th>\n",
       "      <th></th>\n",
       "    </tr>\n",
       "  </thead>\n",
       "  <tbody>\n",
       "    <tr>\n",
       "      <th>операции с недвижимостью</th>\n",
       "      <td>10751</td>\n",
       "      <td>780</td>\n",
       "      <td>0.072551</td>\n",
       "      <td>7.26%</td>\n",
       "    </tr>\n",
       "    <tr>\n",
       "      <th>проведение свадьбы</th>\n",
       "      <td>2313</td>\n",
       "      <td>183</td>\n",
       "      <td>0.079118</td>\n",
       "      <td>7.91%</td>\n",
       "    </tr>\n",
       "    <tr>\n",
       "      <th>получение образования</th>\n",
       "      <td>3988</td>\n",
       "      <td>369</td>\n",
       "      <td>0.092528</td>\n",
       "      <td>9.25%</td>\n",
       "    </tr>\n",
       "    <tr>\n",
       "      <th>операции с автомобилем</th>\n",
       "      <td>4279</td>\n",
       "      <td>400</td>\n",
       "      <td>0.093480</td>\n",
       "      <td>9.35%</td>\n",
       "    </tr>\n",
       "  </tbody>\n",
       "</table>\n",
       "</div>"
      ],
      "text/plain": [
       "                          Количество заемщиков  Количество должников  \\\n",
       "purpose_category                                                       \n",
       "операции с недвижимостью                 10751                   780   \n",
       "проведение свадьбы                        2313                   183   \n",
       "получение образования                     3988                   369   \n",
       "операции с автомобилем                    4279                   400   \n",
       "\n",
       "                          Доля должников % должников  \n",
       "purpose_category                                      \n",
       "операции с недвижимостью        0.072551       7.26%  \n",
       "проведение свадьбы              0.079118       7.91%  \n",
       "получение образования           0.092528       9.25%  \n",
       "операции с автомобилем          0.093480       9.35%  "
      ]
     },
     "execution_count": 77,
     "metadata": {},
     "output_type": "execute_result"
    }
   ],
   "source": [
    "debt_purpose = data.groupby('purpose_category')['debt'].agg(['count','sum','mean']).sort_values(by='mean', ascending=True)\n",
    "debt_purpose['% должников'] = debt_purpose['mean'].apply(part_to_percent)\n",
    "debt_purpose = debt_purpose.rename(columns={'count': 'Количество заемщиков', 'sum':'Количество должников', 'mean':'Доля должников'})\n",
    "debt_purpose"
   ]
  },
  {
   "cell_type": "markdown",
   "id": "10edff78",
   "metadata": {},
   "source": [
    "Жилье это главное, похожим образом дело обстоит и со свадьбами, но порядок  расходов на эти цели несопоставим, наверно поэтому\n",
    "кредиты на свадьба сравнительно легче вернуть. Получение образование и операции с автомобилям замыкают ряд надежности заемщиков.\n"
   ]
  },
  {
   "cell_type": "markdown",
   "id": "a5ca0d02",
   "metadata": {},
   "source": [
    "## Заключение. Итоговая таблица"
   ]
  },
  {
   "cell_type": "markdown",
   "id": "b6c825c1",
   "metadata": {},
   "source": [
    "С помощью метода df.pivot_table создадим общую сводную таблицу, где группировка будет происходить по всем 4м исследуемым факторам одновремено. Применим порог размера выборки >30 это спорный ход признаю и от этой границы зависят выводы"
   ]
  },
  {
   "cell_type": "code",
   "execution_count": 78,
   "id": "1dc2ff15",
   "metadata": {},
   "outputs": [
    {
     "name": "stdout",
     "output_type": "stream",
     "text": [
      "<class 'pandas.core.frame.DataFrame'>\n",
      "MultiIndex: 58 entries, ('1-2 ребенка', 'C', 'гражданский брак', 'получение образования') to ('нет детей', 'B', 'в разводе', 'операции с автомобилем')\n",
      "Data columns (total 2 columns):\n",
      " #   Column           Non-Null Count  Dtype  \n",
      "---  ------           --------------  -----  \n",
      " 0   К-во наблюдений  58 non-null     float64\n",
      " 1   Доля должников   58 non-null     float64\n",
      "dtypes: float64(2)\n",
      "memory usage: 1.5+ KB\n"
     ]
    },
    {
     "data": {
      "text/plain": [
       "None"
      ]
     },
     "metadata": {},
     "output_type": "display_data"
    },
    {
     "data": {
      "text/html": [
       "<div>\n",
       "<style scoped>\n",
       "    .dataframe tbody tr th:only-of-type {\n",
       "        vertical-align: middle;\n",
       "    }\n",
       "\n",
       "    .dataframe tbody tr th {\n",
       "        vertical-align: top;\n",
       "    }\n",
       "\n",
       "    .dataframe thead th {\n",
       "        text-align: right;\n",
       "    }\n",
       "</style>\n",
       "<table border=\"1\" class=\"dataframe\">\n",
       "  <thead>\n",
       "    <tr style=\"text-align: right;\">\n",
       "      <th></th>\n",
       "      <th></th>\n",
       "      <th></th>\n",
       "      <th></th>\n",
       "      <th>К-во наблюдений</th>\n",
       "      <th>Доля должников</th>\n",
       "    </tr>\n",
       "    <tr>\n",
       "      <th>children_category</th>\n",
       "      <th>total_income_category</th>\n",
       "      <th>family_status</th>\n",
       "      <th>purpose_category</th>\n",
       "      <th></th>\n",
       "      <th></th>\n",
       "    </tr>\n",
       "  </thead>\n",
       "  <tbody>\n",
       "    <tr>\n",
       "      <th rowspan=\"3\" valign=\"top\">1-2 ребенка</th>\n",
       "      <th rowspan=\"3\" valign=\"top\">C</th>\n",
       "      <th>гражданский брак</th>\n",
       "      <th>получение образования</th>\n",
       "      <td>99.0</td>\n",
       "      <td>0.202020</td>\n",
       "    </tr>\n",
       "    <tr>\n",
       "      <th>Не женат / не замужем</th>\n",
       "      <th>операции с автомобилем</th>\n",
       "      <td>89.0</td>\n",
       "      <td>0.179775</td>\n",
       "    </tr>\n",
       "    <tr>\n",
       "      <th>гражданский брак</th>\n",
       "      <th>операции с автомобилем</th>\n",
       "      <td>105.0</td>\n",
       "      <td>0.161905</td>\n",
       "    </tr>\n",
       "    <tr>\n",
       "      <th>нет детей</th>\n",
       "      <th>C</th>\n",
       "      <th>гражданский брак</th>\n",
       "      <th>получение образования</th>\n",
       "      <td>195.0</td>\n",
       "      <td>0.148718</td>\n",
       "    </tr>\n",
       "    <tr>\n",
       "      <th>1-2 ребенка</th>\n",
       "      <th>C</th>\n",
       "      <th>гражданский брак</th>\n",
       "      <th>операции с недвижимостью</th>\n",
       "      <td>236.0</td>\n",
       "      <td>0.127119</td>\n",
       "    </tr>\n",
       "  </tbody>\n",
       "</table>\n",
       "</div>"
      ],
      "text/plain": [
       "                                                                                        К-во наблюдений  \\\n",
       "children_category total_income_category family_status         purpose_category                            \n",
       "1-2 ребенка       C                     гражданский брак      получение образования                99.0   \n",
       "                                        Не женат / не замужем операции с автомобилем               89.0   \n",
       "                                        гражданский брак      операции с автомобилем              105.0   \n",
       "нет детей         C                     гражданский брак      получение образования               195.0   \n",
       "1-2 ребенка       C                     гражданский брак      операции с недвижимостью            236.0   \n",
       "\n",
       "                                                                                        Доля должников  \n",
       "children_category total_income_category family_status         purpose_category                          \n",
       "1-2 ребенка       C                     гражданский брак      получение образования           0.202020  \n",
       "                                        Не женат / не замужем операции с автомобилем          0.179775  \n",
       "                                        гражданский брак      операции с автомобилем          0.161905  \n",
       "нет детей         C                     гражданский брак      получение образования           0.148718  \n",
       "1-2 ребенка       C                     гражданский брак      операции с недвижимостью        0.127119  "
      ]
     },
     "metadata": {},
     "output_type": "display_data"
    },
    {
     "data": {
      "text/html": [
       "<div>\n",
       "<style scoped>\n",
       "    .dataframe tbody tr th:only-of-type {\n",
       "        vertical-align: middle;\n",
       "    }\n",
       "\n",
       "    .dataframe tbody tr th {\n",
       "        vertical-align: top;\n",
       "    }\n",
       "\n",
       "    .dataframe thead th {\n",
       "        text-align: right;\n",
       "    }\n",
       "</style>\n",
       "<table border=\"1\" class=\"dataframe\">\n",
       "  <thead>\n",
       "    <tr style=\"text-align: right;\">\n",
       "      <th></th>\n",
       "      <th></th>\n",
       "      <th></th>\n",
       "      <th></th>\n",
       "      <th>К-во наблюдений</th>\n",
       "      <th>Доля должников</th>\n",
       "    </tr>\n",
       "    <tr>\n",
       "      <th>children_category</th>\n",
       "      <th>total_income_category</th>\n",
       "      <th>family_status</th>\n",
       "      <th>purpose_category</th>\n",
       "      <th></th>\n",
       "      <th></th>\n",
       "    </tr>\n",
       "  </thead>\n",
       "  <tbody>\n",
       "    <tr>\n",
       "      <th>нет детей</th>\n",
       "      <th>D</th>\n",
       "      <th>женат / замужем</th>\n",
       "      <th>операции с недвижимостью</th>\n",
       "      <td>81.0</td>\n",
       "      <td>0.037037</td>\n",
       "    </tr>\n",
       "    <tr>\n",
       "      <th>1-2 ребенка</th>\n",
       "      <th>B</th>\n",
       "      <th>гражданский брак</th>\n",
       "      <th>проведение свадьбы</th>\n",
       "      <td>183.0</td>\n",
       "      <td>0.032787</td>\n",
       "    </tr>\n",
       "    <tr>\n",
       "      <th>нет детей</th>\n",
       "      <th>D</th>\n",
       "      <th>женат / замужем</th>\n",
       "      <th>получение образования</th>\n",
       "      <td>34.0</td>\n",
       "      <td>0.029412</td>\n",
       "    </tr>\n",
       "    <tr>\n",
       "      <th>1-2 ребенка</th>\n",
       "      <th>D</th>\n",
       "      <th>женат / замужем</th>\n",
       "      <th>операции с недвижимостью</th>\n",
       "      <td>36.0</td>\n",
       "      <td>0.027778</td>\n",
       "    </tr>\n",
       "    <tr>\n",
       "      <th>нет детей</th>\n",
       "      <th>B</th>\n",
       "      <th>в разводе</th>\n",
       "      <th>операции с автомобилем</th>\n",
       "      <td>49.0</td>\n",
       "      <td>0.020408</td>\n",
       "    </tr>\n",
       "  </tbody>\n",
       "</table>\n",
       "</div>"
      ],
      "text/plain": [
       "                                                                                   К-во наблюдений  \\\n",
       "children_category total_income_category family_status    purpose_category                            \n",
       "нет детей         D                     женат / замужем  операции с недвижимостью             81.0   \n",
       "1-2 ребенка       B                     гражданский брак проведение свадьбы                  183.0   \n",
       "нет детей         D                     женат / замужем  получение образования                34.0   \n",
       "1-2 ребенка       D                     женат / замужем  операции с недвижимостью             36.0   \n",
       "нет детей         B                     в разводе        операции с автомобилем               49.0   \n",
       "\n",
       "                                                                                   Доля должников  \n",
       "children_category total_income_category family_status    purpose_category                          \n",
       "нет детей         D                     женат / замужем  операции с недвижимостью        0.037037  \n",
       "1-2 ребенка       B                     гражданский брак проведение свадьбы              0.032787  \n",
       "нет детей         D                     женат / замужем  получение образования           0.029412  \n",
       "1-2 ребенка       D                     женат / замужем  операции с недвижимостью        0.027778  \n",
       "нет детей         B                     в разводе        операции с автомобилем          0.020408  "
      ]
     },
     "execution_count": 78,
     "metadata": {},
     "output_type": "execute_result"
    }
   ],
   "source": [
    "data_pivot = data.pivot_table(index=['children_category', 'total_income_category', 'family_status', 'purpose_category'],  values='debt', aggfunc = ('mean', lambda X:\n",
    "                                                                       X.count()))\n",
    "\n",
    "data_pivot = data_pivot.rename(columns={'<lambda_0>':'К-во наблюдений','mean': 'Доля должников'})\n",
    "\n",
    "#применим отсечку, чтобы не учитывать малочисленные выборки, это очень условное действие, и наверно не самое правильное....\n",
    "data_pivot = data_pivot[data_pivot['К-во наблюдений'] >30] \n",
    "sorted_data_pivot = data_pivot.sort_values(by=['Доля должников'], ascending=False)\n",
    "\n",
    "display(sorted_data_pivot.info())\n",
    "display (sorted_data_pivot.head(5))\n",
    "(sorted_data_pivot.tail(5))"
   ]
  },
  {
   "cell_type": "markdown",
   "id": "81a3eecf",
   "metadata": {},
   "source": [
    " по таблице: получено 58 комбинаций исследуемых факторов с отсечкой по количеству наблюдений >30.\n",
    "\n",
    "Самые благонадежные заемщики:\n",
    "- Доля просрочки - 2%\n",
    "- Детей - нет \n",
    "- Категория дохода - выше среднего.\n",
    "- Семейное положение -  в разводе\n",
    "- Цель кредита - операции с автомобилем\n",
    "\n",
    "\n",
    "Наименее благонадежные:\n",
    "- Доля просрочки - 20%\n",
    "- Детей - 1-2 \n",
    "- Категория дохода - средний.\n",
    "- Семейное положение -  гражданский брак\n",
    "- Цель кредита - получение образования "
   ]
  },
  {
   "cell_type": "markdown",
   "id": "a05d76dd",
   "metadata": {},
   "source": [
    "##  Выводы."
   ]
  },
  {
   "cell_type": "markdown",
   "id": "5ef823c8",
   "metadata": {},
   "source": [
    "Исходные датасет содержит 21525 записей и 12 колонок.\n",
    "Данные подвергнуты предобработке на основе следующих проблем - содержали пропуски значений, дубликаты и аномальные значения:\n",
    "\n",
    "- Колонки days_employed и total_income содержили пропуски 2174 значений, что около 10% датасета.Помимо этого days_employed содержал и артефактные отрицательыне значения.\n",
    "\n",
    "- 2174 отсутствующих значений days_employed были заполнены медианным значением по каждому типу из столбца income_type. Медианная характеристика лучше средней т.к. позволяет не учитывать аномальные значения по краям последовательности. \n",
    "\n",
    "- days_employed содержали отрицательные значения, что вероятнее всего опечатки, значения - скорректированы методом abs().\n",
    "\n",
    "- Аномальные значения трудового стажа для безработных и пенсионеров более 365000дней ~ 1000 лет не представилось возможным скорректировать. Но и особого смысла в этом нет, т.к. данные сведения не являются исследуеемым параметром.\n",
    "\n",
    "- Отсутствующие данные total_income  были заполнены также медианным значением по каждому типу из столбца income_type. тип данных данной колонки был заменен с float на int методом .astype(int)\n",
    "\n",
    "- Количество детей children содержали значения = -1 и =20 Данные строки были удалены.\n",
    "\n",
    "- Данные колонки education содержали регистрозависимые дубликаты. Приведены к нижнему регистру методом .str.lower() Дубликаты удалены методом .drop_duplicates( keep='first')\n",
    "\n",
    "**В пунтках 7.* показано, что все исследуемые параметры имеют влияние на целевую функцию возврата кредита в срок.** \n",
    "\n",
    "**Общая формулировка - надежность заемщика убывает в ряду признаков**:\n",
    "- **Детей**: нет, 1-2, 3 и более.\n",
    "- **Семейное положение**:состоящие или состоявшие в браке заемщики, гражданский брак, не женат/не замужем.\n",
    "- **Категория дохода**: условно ниже среднего(но выборка несопоставимо меньше B с С),условно выше среднего B, условно средний C.\n",
    "- **Цель кредита**: операции с недвижимостью, проведение свадьбы, получение образования, операции с автомобилем.\n",
    "\n",
    "Появление большого количества пропусков в колонке total_income  требует отдельного разбирательства т.к было установлено, что данный параметр заемщика имеет влияние на количество просрочки. Это ли сбой выгрузки или что-то еще...\n",
    "\n",
    "Общая рекомендация провести ревизию интрефейса загрузки данных в БД:\n",
    "- 1. На предмет наличия фильтров проверяющих вводимые данные на обязательность важных полей как например total_income \n",
    "- 2. На предмет наличия фильтров на проверку адекватности значений(например чтобы не допускать количества детей -1 или трудовой стаж в 1000 лет) \n",
    "- 3. Заполнение категории цель кредита лучше сделать в форме выбора значения из словаря стандарных целей.\n",
    "\n",
    "Дать совет насчет отбора лучших признаков для прогнозирования помог бы факторный анализ или главных компонент, но это еще предстоит изучить....\n",
    "\n",
    " "
   ]
  }
 ],
 "metadata": {
  "ExecuteTimeLog": [
   {
    "duration": 491,
    "start_time": "2023-10-03T04:54:17.757Z"
   },
   {
    "duration": 0,
    "start_time": "2023-10-03T04:54:18.250Z"
   },
   {
    "duration": 0,
    "start_time": "2023-10-03T04:54:18.252Z"
   },
   {
    "duration": 0,
    "start_time": "2023-10-03T04:54:18.253Z"
   },
   {
    "duration": 1,
    "start_time": "2023-10-03T04:54:18.254Z"
   },
   {
    "duration": 1,
    "start_time": "2023-10-03T04:54:18.255Z"
   },
   {
    "duration": 0,
    "start_time": "2023-10-03T04:54:18.256Z"
   },
   {
    "duration": 0,
    "start_time": "2023-10-03T04:54:18.257Z"
   },
   {
    "duration": 0,
    "start_time": "2023-10-03T04:54:18.259Z"
   },
   {
    "duration": 0,
    "start_time": "2023-10-03T04:54:18.260Z"
   },
   {
    "duration": 0,
    "start_time": "2023-10-03T04:54:18.261Z"
   },
   {
    "duration": 0,
    "start_time": "2023-10-03T04:54:18.262Z"
   },
   {
    "duration": 0,
    "start_time": "2023-10-03T04:54:18.263Z"
   },
   {
    "duration": 0,
    "start_time": "2023-10-03T04:54:18.264Z"
   },
   {
    "duration": 0,
    "start_time": "2023-10-03T04:54:18.265Z"
   },
   {
    "duration": 0,
    "start_time": "2023-10-03T04:54:18.266Z"
   },
   {
    "duration": 0,
    "start_time": "2023-10-03T04:54:18.267Z"
   },
   {
    "duration": 0,
    "start_time": "2023-10-03T04:54:18.268Z"
   },
   {
    "duration": 0,
    "start_time": "2023-10-03T04:54:18.301Z"
   },
   {
    "duration": 0,
    "start_time": "2023-10-03T04:54:18.303Z"
   },
   {
    "duration": 0,
    "start_time": "2023-10-03T04:54:18.304Z"
   },
   {
    "duration": 0,
    "start_time": "2023-10-03T04:54:18.305Z"
   },
   {
    "duration": 0,
    "start_time": "2023-10-03T04:54:18.306Z"
   },
   {
    "duration": 0,
    "start_time": "2023-10-03T04:54:18.307Z"
   },
   {
    "duration": 0,
    "start_time": "2023-10-03T04:54:18.309Z"
   },
   {
    "duration": 0,
    "start_time": "2023-10-03T04:54:18.309Z"
   },
   {
    "duration": 0,
    "start_time": "2023-10-03T04:54:18.310Z"
   },
   {
    "duration": 0,
    "start_time": "2023-10-03T04:54:18.311Z"
   },
   {
    "duration": 1,
    "start_time": "2023-10-03T04:54:18.312Z"
   },
   {
    "duration": 0,
    "start_time": "2023-10-03T04:54:18.314Z"
   },
   {
    "duration": 0,
    "start_time": "2023-10-03T04:54:18.315Z"
   },
   {
    "duration": 0,
    "start_time": "2023-10-03T04:54:18.316Z"
   },
   {
    "duration": 417,
    "start_time": "2023-10-03T04:56:30.779Z"
   },
   {
    "duration": 44,
    "start_time": "2023-10-03T04:56:35.915Z"
   },
   {
    "duration": 101,
    "start_time": "2023-10-03T04:56:35.961Z"
   },
   {
    "duration": 147,
    "start_time": "2023-10-03T04:56:36.064Z"
   },
   {
    "duration": 23,
    "start_time": "2023-10-03T04:56:36.213Z"
   },
   {
    "duration": 53,
    "start_time": "2023-10-03T04:56:36.238Z"
   },
   {
    "duration": 48,
    "start_time": "2023-10-03T04:56:36.293Z"
   },
   {
    "duration": 58,
    "start_time": "2023-10-03T04:56:36.343Z"
   },
   {
    "duration": 31,
    "start_time": "2023-10-03T04:56:36.402Z"
   },
   {
    "duration": 40,
    "start_time": "2023-10-03T04:56:36.435Z"
   },
   {
    "duration": 79,
    "start_time": "2023-10-03T04:56:36.477Z"
   },
   {
    "duration": 20,
    "start_time": "2023-10-03T04:56:36.558Z"
   },
   {
    "duration": 63,
    "start_time": "2023-10-03T04:56:36.580Z"
   },
   {
    "duration": 115,
    "start_time": "2023-10-03T04:56:36.645Z"
   },
   {
    "duration": 34,
    "start_time": "2023-10-03T04:56:36.762Z"
   },
   {
    "duration": 16,
    "start_time": "2023-10-03T04:56:36.798Z"
   },
   {
    "duration": 50,
    "start_time": "2023-10-03T04:56:36.815Z"
   },
   {
    "duration": 27,
    "start_time": "2023-10-03T04:56:36.866Z"
   },
   {
    "duration": 19,
    "start_time": "2023-10-03T04:56:36.895Z"
   },
   {
    "duration": 4,
    "start_time": "2023-10-03T04:56:36.915Z"
   },
   {
    "duration": 37,
    "start_time": "2023-10-03T04:56:36.921Z"
   },
   {
    "duration": 59,
    "start_time": "2023-10-03T04:56:36.960Z"
   },
   {
    "duration": 28,
    "start_time": "2023-10-03T04:56:37.021Z"
   },
   {
    "duration": 38,
    "start_time": "2023-10-03T04:56:37.050Z"
   },
   {
    "duration": 32,
    "start_time": "2023-10-03T04:56:37.090Z"
   },
   {
    "duration": 23,
    "start_time": "2023-10-03T04:56:37.124Z"
   },
   {
    "duration": 172,
    "start_time": "2023-10-03T04:56:37.149Z"
   },
   {
    "duration": 19,
    "start_time": "2023-10-03T04:56:37.323Z"
   },
   {
    "duration": 18,
    "start_time": "2023-10-03T04:56:37.344Z"
   },
   {
    "duration": 38,
    "start_time": "2023-10-03T04:56:37.363Z"
   },
   {
    "duration": 16,
    "start_time": "2023-10-03T04:56:37.403Z"
   },
   {
    "duration": 71,
    "start_time": "2023-10-03T04:56:37.421Z"
   }
  ],
  "kernelspec": {
   "display_name": "Python 3 (ipykernel)",
   "language": "python",
   "name": "python3"
  },
  "language_info": {
   "codemirror_mode": {
    "name": "ipython",
    "version": 3
   },
   "file_extension": ".py",
   "mimetype": "text/x-python",
   "name": "python",
   "nbconvert_exporter": "python",
   "pygments_lexer": "ipython3",
   "version": "3.9.18"
  },
  "toc": {
   "base_numbering": 1,
   "nav_menu": {},
   "number_sections": true,
   "sideBar": true,
   "skip_h1_title": true,
   "title_cell": "Исследование надежности заемщиков",
   "title_sidebar": "Contents",
   "toc_cell": true,
   "toc_position": {
    "height": "calc(100% - 180px)",
    "left": "10px",
    "top": "150px",
    "width": "384px"
   },
   "toc_section_display": true,
   "toc_window_display": true
  }
 },
 "nbformat": 4,
 "nbformat_minor": 5
}
