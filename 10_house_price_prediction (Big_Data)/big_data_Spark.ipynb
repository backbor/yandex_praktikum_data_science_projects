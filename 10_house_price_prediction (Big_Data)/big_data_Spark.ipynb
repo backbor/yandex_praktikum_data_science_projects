{
 "cells": [
  {
   "cell_type": "markdown",
   "id": "GEqQaHzsZ_bA",
   "metadata": {
    "id": "GEqQaHzsZ_bA"
   },
   "source": [
    "**Предсказание стоимости жилья**\n",
    "\n",
    "В проекте вам нужно обучить модель линейной регрессии на данных о жилье в Калифорнии в 1990 году. На основе данных нужно предсказать медианную стоимость дома в жилом массиве. Обучите модель и сделайте предсказания на тестовой выборке. Для оценки качества модели используйте метрики RMSE, MAE и R2."
   ]
  },
  {
   "cell_type": "markdown",
   "id": "d2aa9311",
   "metadata": {},
   "source": [
    "**Описание данных**\n",
    "-\t`longitude` — широта;\n",
    "-\t`latitude` — долгота;\n",
    "-\t`housing_median_age` — медианный возраст жителей жилого массива;\n",
    "-\t`total_rooms` — общее количество комнат в домах жилого массива;\n",
    "-\t`total_bedrooms` — общее количество спален в домах жилого массива;\n",
    "-\t`population` — количество человек, которые проживают в жилом массиве;\n",
    "-\t`households` — количество домовладений в жилом массиве;\n",
    "-\t`median_income` — медианный доход жителей жилого массива;\n",
    "-\t`median_house_value` — медианная стоимость дома в жилом массиве;\n",
    "-\t`ocean_proximity` — близость к океану.\n"
   ]
  },
  {
   "cell_type": "markdown",
   "id": "53871372",
   "metadata": {
    "id": "53871372"
   },
   "source": [
    "## Подготовка данных"
   ]
  },
  {
   "cell_type": "code",
   "execution_count": 1,
   "id": "df92e3ec",
   "metadata": {
    "id": "df92e3ec"
   },
   "outputs": [],
   "source": [
    "#Необходимые импорты\n",
    "import pandas as pd \n",
    "import numpy as np\n",
    "\n",
    "import pyspark\n",
    "from pyspark.sql import SparkSession\n",
    "from pyspark.sql.types import *\n",
    "import pyspark.sql.functions as F\n",
    "\n",
    "from pyspark.ml.feature import StringIndexer, VectorAssembler, StandardScaler\n",
    "#from pyspark.ml.classification import LogisticRegression\n",
    "#from pyspark.ml.evaluation import BinaryClassificationEvaluator, MulticlassClassificationEvaluator\n",
    "from pyspark.ml.regression import LinearRegression\n",
    "from pyspark.ml.evaluation import RegressionEvaluator\n",
    "#pyspark_version = pyspark.__version__\n",
    "#if int(pyspark_version[:1]) == 3:\n",
    "#    from pyspark.ml.feature import OneHotEncoder    \n",
    "#elif int(pyspark_version[:1]) == 2:\n",
    "#    from pyspark.ml.feature import OneHotEncodeEstimator\n",
    "from pyspark.ml.feature import OneHotEncoder\n",
    "        \n",
    "RANDOM_SEED = 543\n"
   ]
  },
  {
   "cell_type": "code",
   "execution_count": 2,
   "id": "c35b77af",
   "metadata": {},
   "outputs": [],
   "source": [
    "spark = SparkSession.builder \\\n",
    "                    .master(\"local\") \\\n",
    "                    .appName(\"ML California Housing\") \\\n",
    "                    .getOrCreate()"
   ]
  },
  {
   "cell_type": "code",
   "execution_count": null,
   "id": "81a53b69",
   "metadata": {},
   "outputs": [],
   "source": [
    "\n",
    "if int(pyspark_version[:1]) == 3:\n",
    "    from pyspark.ml.feature import OneHotEncoder as OHE\n",
    "elif int(pyspark_version[:1]) == 2:\n",
    "    from pyspark.ml.feature import OneHotEncodeEstimator as OHE\n"
   ]
  },
  {
   "cell_type": "code",
   "execution_count": 3,
   "id": "9c9ab023",
   "metadata": {
    "scrolled": false
   },
   "outputs": [
    {
     "name": "stderr",
     "output_type": "stream",
     "text": [
      "[Stage 1:>                                                          (0 + 1) / 1]\r"
     ]
    },
    {
     "name": "stdout",
     "output_type": "stream",
     "text": [
      "root\n",
      " |-- longitude: double (nullable = true)\n",
      " |-- latitude: double (nullable = true)\n",
      " |-- housing_median_age: double (nullable = true)\n",
      " |-- total_rooms: double (nullable = true)\n",
      " |-- total_bedrooms: double (nullable = true)\n",
      " |-- population: double (nullable = true)\n",
      " |-- households: double (nullable = true)\n",
      " |-- median_income: double (nullable = true)\n",
      " |-- median_house_value: double (nullable = true)\n",
      " |-- ocean_proximity: string (nullable = true)\n",
      "\n"
     ]
    },
    {
     "name": "stderr",
     "output_type": "stream",
     "text": [
      "                                                                                \r"
     ]
    }
   ],
   "source": [
    "#Загрузка данных\n",
    "df = spark.read.load('/datasets/housing.csv', format=\"csv\", sep=\",\", inferSchema=True, header=\"true\")\n",
    "#Вывод информации о типах данных\n",
    "df.printSchema()\n",
    "#df.show(5)\n"
   ]
  },
  {
   "cell_type": "code",
   "execution_count": 4,
   "id": "85ed8a95",
   "metadata": {
    "scrolled": true
   },
   "outputs": [
    {
     "name": "stderr",
     "output_type": "stream",
     "text": [
      "                                                                                \r"
     ]
    },
    {
     "name": "stdout",
     "output_type": "stream",
     "text": [
      "longitude 0\n",
      "latitude 0\n",
      "housing_median_age 0\n",
      "total_rooms 0\n",
      "total_bedrooms 207\n",
      "population 0\n",
      "households 0\n",
      "median_income 0\n",
      "median_house_value 0\n",
      "ocean_proximity 0\n"
     ]
    }
   ],
   "source": [
    "#Оценка количества пропусков\n",
    "columns = df.columns\n",
    "for column in columns:\n",
    "    check_col = (F.col(column).isNull() | F.isnan(F.col(column)))\n",
    "    print(column, df.filter(check_col).count())\n"
   ]
  },
  {
   "cell_type": "code",
   "execution_count": 5,
   "id": "53ba03bd",
   "metadata": {},
   "outputs": [
    {
     "name": "stdout",
     "output_type": "stream",
     "text": [
      "К-во провусков в total_bedrooms   0\n"
     ]
    }
   ],
   "source": [
    "#Заполнение пропусков медианой\n",
    "total_bedrooms_median = int(df.approxQuantile('total_bedrooms', [0.5], 0)[0])\n",
    "#print (total_bedrooms_median)\n",
    "df=df.na.fill(value=total_bedrooms_median,subset=[\"total_bedrooms\"])\n",
    "\n",
    "#проверим\n",
    "print('К-во провусков в total_bedrooms  ', df.filter(df['total_bedrooms'].isNull()).count())"
   ]
  },
  {
   "cell_type": "code",
   "execution_count": 6,
   "id": "e866b0b1",
   "metadata": {
    "scrolled": true
   },
   "outputs": [
    {
     "name": "stderr",
     "output_type": "stream",
     "text": [
      "                                                                                \r"
     ]
    },
    {
     "data": {
      "text/html": [
       "<div>\n",
       "<style scoped>\n",
       "    .dataframe tbody tr th:only-of-type {\n",
       "        vertical-align: middle;\n",
       "    }\n",
       "\n",
       "    .dataframe tbody tr th {\n",
       "        vertical-align: top;\n",
       "    }\n",
       "\n",
       "    .dataframe thead th {\n",
       "        text-align: right;\n",
       "    }\n",
       "</style>\n",
       "<table border=\"1\" class=\"dataframe\">\n",
       "  <thead>\n",
       "    <tr style=\"text-align: right;\">\n",
       "      <th></th>\n",
       "      <th>0</th>\n",
       "      <th>1</th>\n",
       "      <th>2</th>\n",
       "      <th>3</th>\n",
       "      <th>4</th>\n",
       "    </tr>\n",
       "  </thead>\n",
       "  <tbody>\n",
       "    <tr>\n",
       "      <th>summary</th>\n",
       "      <td>count</td>\n",
       "      <td>mean</td>\n",
       "      <td>stddev</td>\n",
       "      <td>min</td>\n",
       "      <td>max</td>\n",
       "    </tr>\n",
       "    <tr>\n",
       "      <th>longitude</th>\n",
       "      <td>20640</td>\n",
       "      <td>-119.56970445736148</td>\n",
       "      <td>2.003531723502584</td>\n",
       "      <td>-124.35</td>\n",
       "      <td>-114.31</td>\n",
       "    </tr>\n",
       "    <tr>\n",
       "      <th>latitude</th>\n",
       "      <td>20640</td>\n",
       "      <td>35.6318614341087</td>\n",
       "      <td>2.135952397457101</td>\n",
       "      <td>32.54</td>\n",
       "      <td>41.95</td>\n",
       "    </tr>\n",
       "    <tr>\n",
       "      <th>housing_median_age</th>\n",
       "      <td>20640</td>\n",
       "      <td>28.639486434108527</td>\n",
       "      <td>12.58555761211163</td>\n",
       "      <td>1.0</td>\n",
       "      <td>52.0</td>\n",
       "    </tr>\n",
       "    <tr>\n",
       "      <th>total_rooms</th>\n",
       "      <td>20640</td>\n",
       "      <td>2635.7630813953488</td>\n",
       "      <td>2181.6152515827944</td>\n",
       "      <td>2.0</td>\n",
       "      <td>39320.0</td>\n",
       "    </tr>\n",
       "    <tr>\n",
       "      <th>total_bedrooms</th>\n",
       "      <td>20640</td>\n",
       "      <td>536.8388565891473</td>\n",
       "      <td>419.39187792168866</td>\n",
       "      <td>1.0</td>\n",
       "      <td>6445.0</td>\n",
       "    </tr>\n",
       "    <tr>\n",
       "      <th>population</th>\n",
       "      <td>20640</td>\n",
       "      <td>1425.4767441860465</td>\n",
       "      <td>1132.46212176534</td>\n",
       "      <td>3.0</td>\n",
       "      <td>35682.0</td>\n",
       "    </tr>\n",
       "    <tr>\n",
       "      <th>households</th>\n",
       "      <td>20640</td>\n",
       "      <td>499.5396802325581</td>\n",
       "      <td>382.3297528316098</td>\n",
       "      <td>1.0</td>\n",
       "      <td>6082.0</td>\n",
       "    </tr>\n",
       "    <tr>\n",
       "      <th>median_income</th>\n",
       "      <td>20640</td>\n",
       "      <td>3.8706710029070246</td>\n",
       "      <td>1.899821717945263</td>\n",
       "      <td>0.4999</td>\n",
       "      <td>15.0001</td>\n",
       "    </tr>\n",
       "    <tr>\n",
       "      <th>median_house_value</th>\n",
       "      <td>20640</td>\n",
       "      <td>206855.81690891474</td>\n",
       "      <td>115395.61587441359</td>\n",
       "      <td>14999.0</td>\n",
       "      <td>500001.0</td>\n",
       "    </tr>\n",
       "    <tr>\n",
       "      <th>ocean_proximity</th>\n",
       "      <td>20640</td>\n",
       "      <td>None</td>\n",
       "      <td>None</td>\n",
       "      <td>&lt;1H OCEAN</td>\n",
       "      <td>NEAR OCEAN</td>\n",
       "    </tr>\n",
       "  </tbody>\n",
       "</table>\n",
       "</div>"
      ],
      "text/plain": [
       "                        0                    1                   2          3  \\\n",
       "summary             count                 mean              stddev        min   \n",
       "longitude           20640  -119.56970445736148   2.003531723502584    -124.35   \n",
       "latitude            20640     35.6318614341087   2.135952397457101      32.54   \n",
       "housing_median_age  20640   28.639486434108527   12.58555761211163        1.0   \n",
       "total_rooms         20640   2635.7630813953488  2181.6152515827944        2.0   \n",
       "total_bedrooms      20640    536.8388565891473  419.39187792168866        1.0   \n",
       "population          20640   1425.4767441860465    1132.46212176534        3.0   \n",
       "households          20640    499.5396802325581   382.3297528316098        1.0   \n",
       "median_income       20640   3.8706710029070246   1.899821717945263     0.4999   \n",
       "median_house_value  20640   206855.81690891474  115395.61587441359    14999.0   \n",
       "ocean_proximity     20640                 None                None  <1H OCEAN   \n",
       "\n",
       "                             4  \n",
       "summary                    max  \n",
       "longitude              -114.31  \n",
       "latitude                 41.95  \n",
       "housing_median_age        52.0  \n",
       "total_rooms            39320.0  \n",
       "total_bedrooms          6445.0  \n",
       "population             35682.0  \n",
       "households              6082.0  \n",
       "median_income          15.0001  \n",
       "median_house_value    500001.0  \n",
       "ocean_proximity     NEAR OCEAN  "
      ]
     },
     "execution_count": 6,
     "metadata": {},
     "output_type": "execute_result"
    }
   ],
   "source": [
    "df.describe().toPandas().transpose() "
   ]
  },
  {
   "cell_type": "code",
   "execution_count": 7,
   "id": "75dab381",
   "metadata": {
    "scrolled": false
   },
   "outputs": [
    {
     "name": "stdout",
     "output_type": "stream",
     "text": [
      "root\n",
      " |-- housing_median_age: double (nullable = true)\n",
      " |-- total_rooms: double (nullable = true)\n",
      " |-- total_bedrooms: double (nullable = false)\n",
      " |-- population: double (nullable = true)\n",
      " |-- households: double (nullable = true)\n",
      " |-- median_income: double (nullable = true)\n",
      " |-- median_house_value: double (nullable = true)\n",
      " |-- ocean_proximity: string (nullable = true)\n",
      "\n"
     ]
    }
   ],
   "source": [
    "#удалим колонки координат как бесползные для данной задачи\n",
    "exclude = ['longitude', 'latitude']\n",
    "df = df.drop(*exclude)\n",
    "df.printSchema()"
   ]
  },
  {
   "cell_type": "code",
   "execution_count": 8,
   "id": "2989ade0",
   "metadata": {},
   "outputs": [
    {
     "data": {
      "image/png": "[encoded data removed]",
      "text/plain": [
       "<Figure size 720x720 with 49 Axes>"
      ]
     },
     "metadata": {
      "needs_background": "light"
     },
     "output_type": "display_data"
    }
   ],
   "source": [
    "# Визуализация характера связей\n",
    "numeric_features = [t[0] for t in df.dtypes if t[1] == 'int' or t[1] == 'double']\n",
    "sampled_data = df.select(numeric_features).sample(False, 0.8).toPandas()\n",
    "axs = pd.plotting.scatter_matrix(sampled_data, figsize=(10, 10))\n",
    "n = len(sampled_data.columns)\n",
    "for i in range(n):\n",
    "    v = axs[i, 0]\n",
    "    v.yaxis.label.set_rotation(0)\n",
    "    v.yaxis.label.set_ha('right')\n",
    "    v.set_yticks(())\n",
    "    h = axs[n-1, i]\n",
    "    h.xaxis.label.set_rotation(90)\n",
    "    h.set_xticks(())"
   ]
  },
  {
   "cell_type": "code",
   "execution_count": 9,
   "id": "5ae53fb6",
   "metadata": {},
   "outputs": [
    {
     "name": "stdout",
     "output_type": "stream",
     "text": [
      "root\n",
      " |-- housing_median_age: double (nullable = true)\n",
      " |-- total_rooms: double (nullable = true)\n",
      " |-- total_bedrooms: double (nullable = false)\n",
      " |-- population: double (nullable = true)\n",
      " |-- households: double (nullable = true)\n",
      " |-- median_income: double (nullable = true)\n",
      " |-- median_house_value: double (nullable = true)\n",
      " |-- ocean_proximity: string (nullable = true)\n",
      " |-- rooms_per_household: double (nullable = true)\n",
      " |-- population_in_household: double (nullable = true)\n",
      " |-- bedroom_index: double (nullable = true)\n",
      "\n"
     ]
    }
   ],
   "source": [
    "#расчет новых признаков  (из тренировойного задания)\n",
    "df = df.withColumn('rooms_per_household', F.col('total_rooms') / F.col('households'))\n",
    "df = df.withColumn('population_in_household', F.col('population') / F.col('households'))\n",
    "df = df.withColumn('bedroom_index', F.col('total_bedrooms') / F.col('total_rooms'))\n",
    "df.printSchema()\n"
   ]
  },
  {
   "cell_type": "code",
   "execution_count": 10,
   "id": "614ca0d8",
   "metadata": {},
   "outputs": [
    {
     "name": "stdout",
     "output_type": "stream",
     "text": [
      "Correlation to target for  housing_median_age 0.10562341249321067\n",
      "Correlation to target for  total_rooms 0.13415311380656275\n",
      "Correlation to target for  total_bedrooms 0.049456861920854314\n",
      "Correlation to target for  population -0.024649678888894876\n",
      "Correlation to target for  households 0.06584265057005637\n",
      "Correlation to target for  median_income 0.6880752079585578\n",
      "Correlation to target for  median_house_value 1.0\n",
      "Correlation to target for  rooms_per_household 0.15194828974146016\n",
      "Correlation to target for  population_in_household -0.023737412956134192\n",
      "Correlation to target for  bedroom_index -0.23330292651593865\n"
     ]
    }
   ],
   "source": [
    "#рассчитаем коэфф. кор. Пирсона\n",
    "import six\n",
    "for i in df.columns:\n",
    "    if not( isinstance(df.select(i).take(1)[0][0], six.string_types)):\n",
    "        print( \"Correlation to target for \", i, df.stat.corr('median_house_value',i))"
   ]
  },
  {
   "cell_type": "markdown",
   "id": "86890800",
   "metadata": {},
   "source": [
    "Выраженные корреляции кроме как с median_income отсутствуют"
   ]
  },
  {
   "cell_type": "code",
   "execution_count": 11,
   "id": "43f7b2bd",
   "metadata": {},
   "outputs": [
    {
     "name": "stdout",
     "output_type": "stream",
     "text": [
      "root\n",
      " |-- housing_median_age: double (nullable = true)\n",
      " |-- total_rooms: double (nullable = true)\n",
      " |-- total_bedrooms: double (nullable = false)\n",
      " |-- population: double (nullable = true)\n",
      " |-- households: double (nullable = true)\n",
      " |-- median_income: double (nullable = true)\n",
      " |-- median_house_value: double (nullable = true)\n",
      " |-- rooms_per_household: double (nullable = true)\n",
      " |-- population_in_household: double (nullable = true)\n",
      " |-- bedroom_index: double (nullable = true)\n",
      "\n"
     ]
    }
   ],
   "source": [
    "#заготовим датасет без кат признака\n",
    "df_num =df.drop('ocean_proximity') \n",
    "df_num.printSchema()"
   ]
  },
  {
   "cell_type": "code",
   "execution_count": 12,
   "id": "7df27d5f",
   "metadata": {},
   "outputs": [
    {
     "name": "stdout",
     "output_type": "stream",
     "text": [
      "['housing_median_age', 'total_rooms', 'total_bedrooms', 'population', 'households', 'median_income', 'rooms_per_household', 'population_in_household', 'bedroom_index']\n"
     ]
    }
   ],
   "source": [
    "#соберем списки категориальных, числовых значений и определим таргет.\n",
    "cat_col = ['ocean_proximity']\n",
    "num_col = [col for col in df.columns if col not in cat_col]\n",
    "#Убираем таргет\n",
    "num_col.remove('median_house_value')\n",
    "print (num_col)\n",
    "#target\n",
    "target = 'median_house_value'"
   ]
  },
  {
   "cell_type": "code",
   "execution_count": 13,
   "id": "c0eb1ebf",
   "metadata": {},
   "outputs": [],
   "source": [
    "#Разделение на выборки в соотношении 80% 20%\n",
    "train_data_all, test_data_all =df.randomSplit([.8,.2], seed=RANDOM_SEED)\n",
    "#rint(train_data_all.count(), test_data_all.count()) "
   ]
  },
  {
   "cell_type": "code",
   "execution_count": 14,
   "id": "96671911",
   "metadata": {},
   "outputs": [
    {
     "name": "stderr",
     "output_type": "stream",
     "text": [
      "                                                                                \r"
     ]
    },
    {
     "name": "stdout",
     "output_type": "stream",
     "text": [
      "+--------------------+-------------------------+------------------+\n",
      "|        all_features|numerical_features_scaled|median_house_value|\n",
      "+--------------------+-------------------------+------------------+\n",
      "|[0.0,1.0,0.0,0.0,...|     [0.07954269499686...|          141700.0|\n",
      "|[0.0,1.0,0.0,0.0,...|     [0.07954269499686...|          189200.0|\n",
      "|[1.0,0.0,0.0,0.0,...|     [0.15908538999373...|          500001.0|\n",
      "+--------------------+-------------------------+------------------+\n",
      "only showing top 3 rows\n",
      "\n",
      "+--------------------+-------------------------+------------------+\n",
      "|        all_features|numerical_features_scaled|median_house_value|\n",
      "+--------------------+-------------------------+------------------+\n",
      "|[0.0,1.0,0.0,0.0,...|     [0.07954269499686...|          141700.0|\n",
      "|[0.0,1.0,0.0,0.0,...|     [0.07954269499686...|          189200.0|\n",
      "|[1.0,0.0,0.0,0.0,...|     [0.15908538999373...|          500001.0|\n",
      "+--------------------+-------------------------+------------------+\n",
      "only showing top 3 rows\n",
      "\n"
     ]
    }
   ],
   "source": [
    "#обучение трансформеров на трейне и раздельное кодирование выборок.\n",
    "#Обработка категориальных\n",
    "indexer = StringIndexer(inputCols=cat_col, outputCols=[c+'_idx' for c in cat_col]) \n",
    "indexer = indexer.fit(train_data_all)\n",
    "train_data_all = indexer.transform(train_data_all)\n",
    "test_data_all = indexer.transform(test_data_all)\n",
    "\n",
    "encoder = OneHotEncoder(inputCols=[c+'_idx' for c in cat_col],\n",
    "                        outputCols=[c+'_ohe' for c in cat_col])\n",
    "\n",
    "encoder = encoder.fit(train_data_all)\n",
    "train_data_all = encoder.transform(train_data_all)\n",
    "test_data_all = encoder.transform(test_data_all)\n",
    "#Преобразование категориальных в один вектор\n",
    "categorical_assembler = VectorAssembler(inputCols=[c+'_ohe' for c in cat_col],\n",
    "                                        outputCol=\"categorical_features\")\n",
    "train_data_all = categorical_assembler.transform(train_data_all)\n",
    "test_data_all = categorical_assembler.transform(test_data_all)\n",
    "#Трансформация числовых признаков\n",
    "numerical_assembler = VectorAssembler(inputCols=num_col, outputCol=\"numerical_features\") \n",
    "train_data_all = numerical_assembler.transform(train_data_all)\n",
    "test_data_all = numerical_assembler.transform(test_data_all)\n",
    "\n",
    "standardScaler = StandardScaler(inputCol='numerical_features', outputCol=\"numerical_features_scaled\")\n",
    "standardScaler = standardScaler.fit(train_data_all)\n",
    "train_data_all = standardScaler.transform(train_data_all)\n",
    "test_data_all = standardScaler.transform(test_data_all)\n",
    "#сборка трансформированных признаков в один вектор\n",
    "all_features = ['categorical_features','numerical_features_scaled']\n",
    "final_assembler = VectorAssembler(inputCols=all_features, outputCol=\"all_features\") \n",
    "train_data_all = final_assembler.transform(train_data_all)\n",
    "test_data_all = final_assembler.transform(test_data_all) \n",
    "\n",
    "# проверим.\n",
    "test_data_all.select('all_features', 'numerical_features_scaled', 'median_house_value').show(3)\n",
    "test_data_all.select('all_features', 'numerical_features_scaled','median_house_value' ).show(3)   "
   ]
  },
  {
   "cell_type": "markdown",
   "id": "9f0a82f3",
   "metadata": {
    "id": "9f0a82f3"
   },
   "source": [
    "## Обучение моделей"
   ]
  },
  {
   "cell_type": "code",
   "execution_count": 15,
   "id": "3941cea4",
   "metadata": {
    "scrolled": true
   },
   "outputs": [
    {
     "name": "stderr",
     "output_type": "stream",
     "text": [
      "24/05/24 15:19:08 WARN Instrumentation: [995e8c21] regParam is zero, which might cause numerical instability and overfitting.\n",
      "24/05/24 15:19:08 WARN BLAS: Failed to load implementation from: com.github.fommil.netlib.NativeSystemBLAS\n",
      "24/05/24 15:19:08 WARN BLAS: Failed to load implementation from: com.github.fommil.netlib.NativeRefBLAS\n",
      "24/05/24 15:19:09 WARN LAPACK: Failed to load implementation from: com.github.fommil.netlib.NativeSystemLAPACK\n",
      "24/05/24 15:19:09 WARN LAPACK: Failed to load implementation from: com.github.fommil.netlib.NativeRefLAPACK\n",
      "                                                                                \r"
     ]
    }
   ],
   "source": [
    "#обучим модель model_all_futures по всем признакам\n",
    "lr = LinearRegression( featuresCol='all_features', labelCol=target)\n",
    "model_all_futures = lr.fit(train_data_all) "
   ]
  },
  {
   "cell_type": "code",
   "execution_count": 16,
   "id": "2665e223",
   "metadata": {},
   "outputs": [
    {
     "name": "stderr",
     "output_type": "stream",
     "text": [
      "24/05/24 15:19:11 WARN Instrumentation: [03046004] regParam is zero, which might cause numerical instability and overfitting.\n"
     ]
    }
   ],
   "source": [
    "#обучим модель model_num без категориального признака\n",
    "lr = LinearRegression(labelCol=target, featuresCol='numerical_features_scaled')\n",
    "model_num = lr.fit(train_data_all) "
   ]
  },
  {
   "cell_type": "markdown",
   "id": "757fd103",
   "metadata": {
    "id": "757fd103"
   },
   "source": [
    "## Анализ результатов"
   ]
  },
  {
   "cell_type": "code",
   "execution_count": 17,
   "id": "34d8ab64",
   "metadata": {},
   "outputs": [
    {
     "name": "stdout",
     "output_type": "stream",
     "text": [
      "+------------------+------------------+--------------------+\n",
      "|        prediction|median_house_value|        all_features|\n",
      "+------------------+------------------+--------------------+\n",
      "|154351.55305235353|          141700.0|[0.0,1.0,0.0,0.0,...|\n",
      "|150035.40616715123|          189200.0|[0.0,1.0,0.0,0.0,...|\n",
      "|364658.51182258653|          500001.0|[1.0,0.0,0.0,0.0,...|\n",
      "|239671.77996857898|          158500.0|[0.0,0.0,1.0,0.0,...|\n",
      "|240019.65123852307|          329500.0|[0.0,1.0,0.0,0.0,...|\n",
      "+------------------+------------------+--------------------+\n",
      "only showing top 5 rows\n",
      "\n"
     ]
    }
   ],
   "source": [
    "#Тестируем модель со всеми признаками\n",
    "lr_predictions_all_futures = model_all_futures.transform(test_data_all)\n",
    "lr_predictions_all_futures.select(\"prediction\",target,\"all_features\").show(5)"
   ]
  },
  {
   "cell_type": "code",
   "execution_count": 18,
   "id": "38dfb369",
   "metadata": {},
   "outputs": [
    {
     "name": "stdout",
     "output_type": "stream",
     "text": [
      "Метрики для модели основанной на всех признаках\n",
      "Метрика R2 :  0.6437029512559611\n",
      "Метрика RMSE :  69200.0227552419\n",
      "Метрика MAE :  49229.44852318738\n"
     ]
    }
   ],
   "source": [
    "#Получим метрики для модели на основе всех признаков\n",
    "print ('Метрики для модели основанной на всех признаках')\n",
    "print ('Метрика R2 : ',  RegressionEvaluator(labelCol='median_house_value',\n",
    "                         metricName='r2').evaluate(lr_predictions_all_futures))\n",
    "print ('Метрика RMSE : ',RegressionEvaluator(labelCol='median_house_value',\n",
    "                         metricName='rmse').evaluate(lr_predictions_all_futures))\n",
    "print ('Метрика MAE : ', RegressionEvaluator(labelCol='median_house_value',\n",
    "                         metricName='mae').evaluate(lr_predictions_all_futures))"
   ]
  },
  {
   "cell_type": "code",
   "execution_count": 19,
   "id": "696b61be",
   "metadata": {
    "scrolled": true
   },
   "outputs": [
    {
     "name": "stdout",
     "output_type": "stream",
     "text": [
      "+------------------+------------------+-------------------------+\n",
      "|        prediction|median_house_value|numerical_features_scaled|\n",
      "+------------------+------------------+-------------------------+\n",
      "|186082.32293063268|          141700.0|     [0.07954269499686...|\n",
      "|140333.98185547913|          189200.0|     [0.07954269499686...|\n",
      "| 343861.7399064058|          500001.0|     [0.15908538999373...|\n",
      "| 192454.7904229408|          158500.0|     [0.15908538999373...|\n",
      "|265154.67042080575|          329500.0|     [0.15908538999373...|\n",
      "+------------------+------------------+-------------------------+\n",
      "only showing top 5 rows\n",
      "\n"
     ]
    }
   ],
   "source": [
    "#Тестируем модель только с num признаками\n",
    "lr_predictions_num = model_num.transform(test_data_all)\n",
    "lr_predictions_num.select(\"prediction\",target,\"numerical_features_scaled\").show(5)\n",
    "#lr_evaluator = RegressionEvaluator(predictionCol=\"prediction\",  labelCol=target, metricName=\"r2\")\n",
    "#print(\"R Squared (R2) on test data = %g\" % lr_evaluator.evaluate(lr_predictions))"
   ]
  },
  {
   "cell_type": "code",
   "execution_count": 20,
   "id": "cf3514a7",
   "metadata": {
    "scrolled": true
   },
   "outputs": [
    {
     "name": "stdout",
     "output_type": "stream",
     "text": [
      "Метрики для модели основанной на числовых признаках\n",
      "Метрика R2:  0.5865840753457352\n",
      "Метрика RMSE:  74540.74439668555\n",
      "Метрика MAE :  53996.72778421933\n"
     ]
    }
   ],
   "source": [
    "#Получим метрики для модели на основе числовых признаков\n",
    "print ('Метрики для модели основанной на числовых признаках')\n",
    "print ('Метрика R2: ',   RegressionEvaluator(labelCol='median_house_value',\n",
    "                         metricName='r2').evaluate(lr_predictions_num))\n",
    "print ('Метрика RMSE: ', RegressionEvaluator(labelCol='median_house_value',\n",
    "                         metricName='rmse').evaluate(lr_predictions_num))\n",
    "print ('Метрика MAE : ', RegressionEvaluator(labelCol='median_house_value',\n",
    "                         metricName='mae').evaluate(lr_predictions_num))"
   ]
  },
  {
   "cell_type": "code",
   "execution_count": 21,
   "id": "de491baa",
   "metadata": {},
   "outputs": [],
   "source": [
    "spark.stop()"
   ]
  },
  {
   "cell_type": "markdown",
   "id": "521cdec1",
   "metadata": {},
   "source": [
    "**Заключение**:\n",
    "Обработаны обнаруженные пропуски в данных. Проведен анализ взаимосвязей признаков. Сравнены модели линейной регрессии. \n",
    "Качество моделей линейной регрессии основанной на всех признаках превысило качество модели с исключением категориального признака. Метрики R2 0.64 и 0.58  MAE 49229.44 и 53996.72 соответственно.  "
   ]
  },
  {
   "cell_type": "markdown",
   "id": "0cd2dda3",
   "metadata": {},
   "source": [
    "<font color='green'>Немного полезного материала:\n",
    "+  https://sparkbyexamples.com/pyspark-tutorial/, https://sparkbyexamples.com/\n",
    "+  https://github.com/dvgodoy/handyspark\n",
    "+  https://www.tutorialspoint.com/pyspark/index.htm\n",
    "+  https://www.guru99.com/pyspark-tutorial.html\n",
    "+  https://databricks.com/spark/getting-started-with-apache-spark/machine-learning#load-sample-data\n",
    "</font>"
   ]
  }
 ],
 "metadata": {
  "ExecuteTimeLog": [
   {
    "duration": 15338,
    "start_time": "2024-05-20T23:35:02.146Z"
   },
   {
    "duration": 9094,
    "start_time": "2024-05-20T23:35:17.487Z"
   },
   {
    "duration": 5033,
    "start_time": "2024-05-20T23:39:38.081Z"
   },
   {
    "duration": 915,
    "start_time": "2024-05-20T23:41:42.874Z"
   },
   {
    "duration": 78,
    "start_time": "2024-05-20T23:44:52.068Z"
   },
   {
    "duration": 9,
    "start_time": "2024-05-20T23:54:47.816Z"
   },
   {
    "duration": 3,
    "start_time": "2024-05-20T23:55:23.019Z"
   },
   {
    "duration": 28,
    "start_time": "2024-05-20T23:55:29.636Z"
   },
   {
    "duration": 15,
    "start_time": "2024-05-20T23:55:35.706Z"
   },
   {
    "duration": 486,
    "start_time": "2024-05-20T23:55:44.517Z"
   },
   {
    "duration": 8,
    "start_time": "2024-05-20T23:56:10.417Z"
   },
   {
    "duration": 8,
    "start_time": "2024-05-20T23:59:46.755Z"
   },
   {
    "duration": 6,
    "start_time": "2024-05-21T00:00:38.280Z"
   },
   {
    "duration": 773,
    "start_time": "2024-05-21T00:00:39.840Z"
   },
   {
    "duration": 2903,
    "start_time": "2024-05-21T00:00:42.917Z"
   },
   {
    "duration": 8,
    "start_time": "2024-05-21T00:00:50.198Z"
   },
   {
    "duration": 5106,
    "start_time": "2024-05-21T00:03:24.395Z"
   },
   {
    "duration": 10,
    "start_time": "2024-05-21T00:03:44.875Z"
   },
   {
    "duration": 12,
    "start_time": "2024-05-21T00:04:14.519Z"
   },
   {
    "duration": 10,
    "start_time": "2024-05-21T00:05:00.668Z"
   },
   {
    "duration": 216,
    "start_time": "2024-05-21T00:06:58.373Z"
   },
   {
    "duration": 18,
    "start_time": "2024-05-21T00:07:36.413Z"
   },
   {
    "duration": 248,
    "start_time": "2024-05-21T00:10:59.840Z"
   },
   {
    "duration": 9,
    "start_time": "2024-05-21T00:11:10.904Z"
   },
   {
    "duration": 260,
    "start_time": "2024-05-21T00:14:05.022Z"
   },
   {
    "duration": 214,
    "start_time": "2024-05-21T00:14:14.976Z"
   },
   {
    "duration": 195,
    "start_time": "2024-05-21T00:14:46.256Z"
   },
   {
    "duration": 16,
    "start_time": "2024-05-21T00:15:09.114Z"
   },
   {
    "duration": 162,
    "start_time": "2024-05-21T00:15:15.904Z"
   },
   {
    "duration": 176,
    "start_time": "2024-05-21T00:16:21.695Z"
   },
   {
    "duration": 46,
    "start_time": "2024-05-21T00:21:26.971Z"
   },
   {
    "duration": 207,
    "start_time": "2024-05-21T00:21:32.903Z"
   },
   {
    "duration": 148,
    "start_time": "2024-05-21T00:21:58.654Z"
   },
   {
    "duration": 440,
    "start_time": "2024-05-21T00:23:11.445Z"
   },
   {
    "duration": 160,
    "start_time": "2024-05-21T00:23:39.768Z"
   },
   {
    "duration": 4,
    "start_time": "2024-05-21T00:25:03.264Z"
   },
   {
    "duration": 699,
    "start_time": "2024-05-21T00:25:10.990Z"
   },
   {
    "duration": 4,
    "start_time": "2024-05-21T00:26:45.210Z"
   },
   {
    "duration": 4,
    "start_time": "2024-05-21T00:26:52.794Z"
   },
   {
    "duration": 6,
    "start_time": "2024-05-21T00:27:26.086Z"
   },
   {
    "duration": 527,
    "start_time": "2024-05-21T00:28:37.373Z"
   },
   {
    "duration": 308,
    "start_time": "2024-05-21T00:28:53.082Z"
   },
   {
    "duration": 32,
    "start_time": "2024-05-21T00:30:43.850Z"
   },
   {
    "duration": 2569,
    "start_time": "2024-05-21T00:33:17.129Z"
   },
   {
    "duration": 9,
    "start_time": "2024-05-21T00:40:25.052Z"
   },
   {
    "duration": 17,
    "start_time": "2024-05-21T00:41:15.953Z"
   },
   {
    "duration": 4,
    "start_time": "2024-05-21T00:42:37.572Z"
   },
   {
    "duration": 3,
    "start_time": "2024-05-21T00:44:58.778Z"
   },
   {
    "duration": 8,
    "start_time": "2024-05-21T00:45:27.389Z"
   },
   {
    "duration": 265,
    "start_time": "2024-05-21T00:45:50.763Z"
   },
   {
    "duration": 127,
    "start_time": "2024-05-21T00:45:54.690Z"
   },
   {
    "duration": 9,
    "start_time": "2024-05-21T01:03:26.757Z"
   },
   {
    "duration": 547,
    "start_time": "2024-05-21T01:03:51.933Z"
   },
   {
    "duration": 103,
    "start_time": "2024-05-21T01:04:49.390Z"
   },
   {
    "duration": 35,
    "start_time": "2024-05-21T01:10:05.965Z"
   },
   {
    "duration": 102,
    "start_time": "2024-05-21T01:10:45.877Z"
   },
   {
    "duration": 104,
    "start_time": "2024-05-21T01:11:09.225Z"
   },
   {
    "duration": 101,
    "start_time": "2024-05-21T01:12:01.493Z"
   },
   {
    "duration": 93,
    "start_time": "2024-05-21T01:13:49.545Z"
   },
   {
    "duration": 1516,
    "start_time": "2024-05-21T01:19:13.213Z"
   },
   {
    "duration": 110,
    "start_time": "2024-05-21T01:19:24.386Z"
   },
   {
    "duration": 6,
    "start_time": "2024-05-21T01:19:48.358Z"
   },
   {
    "duration": 469,
    "start_time": "2024-05-21T01:19:48.366Z"
   },
   {
    "duration": 1912,
    "start_time": "2024-05-21T01:19:48.837Z"
   },
   {
    "duration": 81,
    "start_time": "2024-05-21T01:19:50.750Z"
   },
   {
    "duration": 0,
    "start_time": "2024-05-21T01:19:50.833Z"
   },
   {
    "duration": 0,
    "start_time": "2024-05-21T01:19:50.834Z"
   },
   {
    "duration": 0,
    "start_time": "2024-05-21T01:19:50.836Z"
   },
   {
    "duration": 50,
    "start_time": "2024-05-21T01:20:34.978Z"
   },
   {
    "duration": 322,
    "start_time": "2024-05-21T01:20:43.279Z"
   },
   {
    "duration": 26,
    "start_time": "2024-05-21T01:20:47.579Z"
   },
   {
    "duration": 1405,
    "start_time": "2024-05-21T01:20:49.503Z"
   },
   {
    "duration": 9,
    "start_time": "2024-05-21T01:20:54.711Z"
   },
   {
    "duration": 4,
    "start_time": "2024-05-21T01:20:56.635Z"
   },
   {
    "duration": 657,
    "start_time": "2024-05-21T01:20:59.424Z"
   },
   {
    "duration": 46,
    "start_time": "2024-05-21T01:22:24.990Z"
   },
   {
    "duration": 995,
    "start_time": "2024-05-21T01:24:44.119Z"
   },
   {
    "duration": 10,
    "start_time": "2024-05-21T01:25:02.263Z"
   },
   {
    "duration": 285,
    "start_time": "2024-05-21T01:26:16.810Z"
   },
   {
    "duration": 2620,
    "start_time": "2024-05-21T01:27:23.072Z"
   },
   {
    "duration": 12,
    "start_time": "2024-05-21T01:53:26.902Z"
   },
   {
    "duration": 8,
    "start_time": "2024-05-21T01:53:40.188Z"
   },
   {
    "duration": 3534,
    "start_time": "2024-05-21T01:53:44.514Z"
   },
   {
    "duration": 12,
    "start_time": "2024-05-21T02:03:26.177Z"
   },
   {
    "duration": 129,
    "start_time": "2024-05-21T02:04:19.642Z"
   },
   {
    "duration": 8,
    "start_time": "2024-05-21T02:04:35.395Z"
   },
   {
    "duration": 75,
    "start_time": "2024-05-21T02:21:58.918Z"
   },
   {
    "duration": 14325,
    "start_time": "2024-05-22T22:34:02.488Z"
   },
   {
    "duration": 7018,
    "start_time": "2024-05-22T22:34:16.815Z"
   },
   {
    "duration": 4968,
    "start_time": "2024-05-22T22:34:23.834Z"
   },
   {
    "duration": 825,
    "start_time": "2024-05-22T22:34:28.804Z"
   },
   {
    "duration": 103,
    "start_time": "2024-05-22T22:34:29.631Z"
   },
   {
    "duration": 3096,
    "start_time": "2024-05-22T22:34:29.735Z"
   },
   {
    "duration": 72,
    "start_time": "2024-05-22T22:34:32.832Z"
   },
   {
    "duration": 5,
    "start_time": "2024-05-22T22:34:32.905Z"
   },
   {
    "duration": 1810,
    "start_time": "2024-05-22T22:34:32.912Z"
   },
   {
    "duration": 100,
    "start_time": "2024-05-22T22:34:34.723Z"
   },
   {
    "duration": 142,
    "start_time": "2024-05-22T22:35:03.436Z"
   },
   {
    "duration": 998,
    "start_time": "2024-05-22T22:35:17.204Z"
   },
   {
    "duration": 5,
    "start_time": "2024-05-22T22:35:26.420Z"
   },
   {
    "duration": 226,
    "start_time": "2024-05-22T22:35:33.452Z"
   },
   {
    "duration": 2679,
    "start_time": "2024-05-22T22:35:39.227Z"
   },
   {
    "duration": 14421,
    "start_time": "2024-05-22T22:57:57.388Z"
   },
   {
    "duration": 6301,
    "start_time": "2024-05-22T22:58:11.811Z"
   },
   {
    "duration": 4391,
    "start_time": "2024-05-22T22:58:18.114Z"
   },
   {
    "duration": 696,
    "start_time": "2024-05-22T22:58:22.506Z"
   },
   {
    "duration": 102,
    "start_time": "2024-05-22T22:58:23.203Z"
   },
   {
    "duration": 2828,
    "start_time": "2024-05-22T22:58:23.306Z"
   },
   {
    "duration": 9,
    "start_time": "2024-05-22T22:58:26.136Z"
   },
   {
    "duration": 56,
    "start_time": "2024-05-22T22:58:26.146Z"
   },
   {
    "duration": 1616,
    "start_time": "2024-05-22T22:58:26.204Z"
   },
   {
    "duration": 91,
    "start_time": "2024-05-22T22:58:27.822Z"
   },
   {
    "duration": 1007,
    "start_time": "2024-05-22T22:58:27.915Z"
   },
   {
    "duration": 5,
    "start_time": "2024-05-22T22:58:28.923Z"
   },
   {
    "duration": 384,
    "start_time": "2024-05-22T22:58:28.930Z"
   },
   {
    "duration": 2593,
    "start_time": "2024-05-22T22:58:29.316Z"
   },
   {
    "duration": 4530217,
    "start_time": "2024-05-22T22:58:38.604Z"
   },
   {
    "duration": 14495,
    "start_time": "2024-05-23T00:18:38.045Z"
   },
   {
    "duration": 7086,
    "start_time": "2024-05-23T00:18:52.542Z"
   },
   {
    "duration": 4790,
    "start_time": "2024-05-23T00:18:59.629Z"
   },
   {
    "duration": 711,
    "start_time": "2024-05-23T00:19:04.421Z"
   },
   {
    "duration": 169,
    "start_time": "2024-05-23T00:19:05.134Z"
   },
   {
    "duration": 3019,
    "start_time": "2024-05-23T00:19:05.305Z"
   },
   {
    "duration": 10,
    "start_time": "2024-05-23T00:19:08.326Z"
   },
   {
    "duration": 6,
    "start_time": "2024-05-23T00:19:15.723Z"
   },
   {
    "duration": 68,
    "start_time": "2024-05-23T00:19:32.969Z"
   },
   {
    "duration": 7,
    "start_time": "2024-05-23T00:20:21.915Z"
   },
   {
    "duration": 4,
    "start_time": "2024-05-23T00:21:03.817Z"
   },
   {
    "duration": 1758,
    "start_time": "2024-05-23T00:21:40.755Z"
   },
   {
    "duration": 1694,
    "start_time": "2024-05-23T00:21:50.940Z"
   },
   {
    "duration": 15307,
    "start_time": "2024-05-23T01:10:27.809Z"
   },
   {
    "duration": 8117,
    "start_time": "2024-05-23T01:10:43.120Z"
   },
   {
    "duration": 6167,
    "start_time": "2024-05-23T01:10:51.239Z"
   },
   {
    "duration": 821,
    "start_time": "2024-05-23T01:10:57.408Z"
   },
   {
    "duration": 177,
    "start_time": "2024-05-23T01:10:58.232Z"
   },
   {
    "duration": 3719,
    "start_time": "2024-05-23T01:10:58.411Z"
   },
   {
    "duration": 72,
    "start_time": "2024-05-23T01:11:02.132Z"
   },
   {
    "duration": 8,
    "start_time": "2024-05-23T01:11:02.206Z"
   },
   {
    "duration": 7,
    "start_time": "2024-05-23T01:11:02.216Z"
   },
   {
    "duration": 1988,
    "start_time": "2024-05-23T01:11:02.224Z"
   },
   {
    "duration": 99,
    "start_time": "2024-05-23T01:11:04.214Z"
   },
   {
    "duration": 1317,
    "start_time": "2024-05-23T01:11:04.315Z"
   },
   {
    "duration": 75,
    "start_time": "2024-05-23T01:12:39.459Z"
   },
   {
    "duration": 254,
    "start_time": "2024-05-23T01:13:35.958Z"
   },
   {
    "duration": 2000,
    "start_time": "2024-05-23T01:13:55.145Z"
   },
   {
    "duration": 126,
    "start_time": "2024-05-23T01:15:33.672Z"
   },
   {
    "duration": 131,
    "start_time": "2024-05-23T01:16:28.392Z"
   },
   {
    "duration": 26,
    "start_time": "2024-05-23T01:17:17.674Z"
   },
   {
    "duration": 74,
    "start_time": "2024-05-23T01:23:23.487Z"
   },
   {
    "duration": 597,
    "start_time": "2024-05-23T01:23:28.149Z"
   },
   {
    "duration": 78,
    "start_time": "2024-05-23T01:23:34.098Z"
   },
   {
    "duration": 8,
    "start_time": "2024-05-23T01:23:54.873Z"
   },
   {
    "duration": 438,
    "start_time": "2024-05-23T01:23:54.888Z"
   },
   {
    "duration": 2242,
    "start_time": "2024-05-23T01:23:55.327Z"
   },
   {
    "duration": 321,
    "start_time": "2024-05-23T01:23:57.601Z"
   },
   {
    "duration": 23,
    "start_time": "2024-05-23T01:23:57.924Z"
   },
   {
    "duration": 1134,
    "start_time": "2024-05-23T01:23:58.001Z"
   },
   {
    "duration": 65,
    "start_time": "2024-05-23T01:23:59.136Z"
   },
   {
    "duration": 6,
    "start_time": "2024-05-23T01:23:59.203Z"
   },
   {
    "duration": 7,
    "start_time": "2024-05-23T01:23:59.210Z"
   },
   {
    "duration": 536,
    "start_time": "2024-05-23T01:23:59.218Z"
   },
   {
    "duration": 55,
    "start_time": "2024-05-23T01:23:59.755Z"
   },
   {
    "duration": 506,
    "start_time": "2024-05-23T01:23:59.811Z"
   },
   {
    "duration": 8,
    "start_time": "2024-05-23T01:24:00.318Z"
   },
   {
    "duration": 1156,
    "start_time": "2024-05-23T01:26:48.478Z"
   },
   {
    "duration": 466,
    "start_time": "2024-05-23T01:27:00.563Z"
   },
   {
    "duration": 6,
    "start_time": "2024-05-23T01:28:18.112Z"
   },
   {
    "duration": 164,
    "start_time": "2024-05-23T01:29:30.445Z"
   },
   {
    "duration": 4,
    "start_time": "2024-05-23T01:30:08.159Z"
   },
   {
    "duration": 361,
    "start_time": "2024-05-23T01:30:57.360Z"
   },
   {
    "duration": 304,
    "start_time": "2024-05-23T01:31:16.510Z"
   },
   {
    "duration": 1061,
    "start_time": "2024-05-23T01:31:27.461Z"
   },
   {
    "duration": 495,
    "start_time": "2024-05-23T01:31:28.523Z"
   },
   {
    "duration": 6,
    "start_time": "2024-05-23T01:31:36.862Z"
   },
   {
    "duration": 20,
    "start_time": "2024-05-23T03:13:57.653Z"
   },
   {
    "duration": 14095,
    "start_time": "2024-05-23T03:14:30.254Z"
   },
   {
    "duration": 6577,
    "start_time": "2024-05-23T03:14:44.351Z"
   },
   {
    "duration": 4292,
    "start_time": "2024-05-23T03:14:50.930Z"
   },
   {
    "duration": 778,
    "start_time": "2024-05-23T03:14:55.224Z"
   },
   {
    "duration": 100,
    "start_time": "2024-05-23T03:14:56.004Z"
   },
   {
    "duration": 2925,
    "start_time": "2024-05-23T03:14:56.105Z"
   },
   {
    "duration": 8,
    "start_time": "2024-05-23T03:14:59.031Z"
   },
   {
    "duration": 63,
    "start_time": "2024-05-23T03:14:59.041Z"
   },
   {
    "duration": 5,
    "start_time": "2024-05-23T03:14:59.105Z"
   },
   {
    "duration": 1901,
    "start_time": "2024-05-23T03:14:59.111Z"
   },
   {
    "duration": 108,
    "start_time": "2024-05-23T03:15:01.013Z"
   },
   {
    "duration": 1212,
    "start_time": "2024-05-23T03:15:01.122Z"
   },
   {
    "duration": 6,
    "start_time": "2024-05-23T03:15:02.402Z"
   },
   {
    "duration": 503,
    "start_time": "2024-05-23T03:15:02.410Z"
   },
   {
    "duration": 269,
    "start_time": "2024-05-23T03:17:25.894Z"
   },
   {
    "duration": 1954,
    "start_time": "2024-05-23T03:17:28.279Z"
   },
   {
    "duration": 697,
    "start_time": "2024-05-23T03:17:33.828Z"
   },
   {
    "duration": 3325,
    "start_time": "2024-05-23T03:17:40.979Z"
   },
   {
    "duration": 679,
    "start_time": "2024-05-23T03:18:05.550Z"
   },
   {
    "duration": 394,
    "start_time": "2024-05-23T03:18:58.731Z"
   },
   {
    "duration": 273,
    "start_time": "2024-05-23T03:19:01.231Z"
   },
   {
    "duration": 1137,
    "start_time": "2024-05-23T03:19:04.472Z"
   },
   {
    "duration": 164,
    "start_time": "2024-05-23T03:19:25.310Z"
   },
   {
    "duration": 1706,
    "start_time": "2024-05-23T03:19:52.803Z"
   },
   {
    "duration": 524,
    "start_time": "2024-05-23T03:20:05.543Z"
   },
   {
    "duration": 105,
    "start_time": "2024-05-23T03:30:15.301Z"
   },
   {
    "duration": 5,
    "start_time": "2024-05-23T03:31:40.097Z"
   },
   {
    "duration": 417,
    "start_time": "2024-05-23T03:31:54.102Z"
   },
   {
    "duration": 1096,
    "start_time": "2024-05-23T03:40:40.952Z"
   },
   {
    "duration": 9,
    "start_time": "2024-05-23T03:42:20.050Z"
   },
   {
    "duration": 765,
    "start_time": "2024-05-23T03:42:32.650Z"
   },
   {
    "duration": 7,
    "start_time": "2024-05-23T03:42:48.599Z"
   },
   {
    "duration": 746,
    "start_time": "2024-05-23T03:43:03.162Z"
   },
   {
    "duration": 540,
    "start_time": "2024-05-23T03:43:36.414Z"
   },
   {
    "duration": 4,
    "start_time": "2024-05-23T03:43:48.124Z"
   },
   {
    "duration": 514,
    "start_time": "2024-05-23T03:45:31.839Z"
   },
   {
    "duration": 7,
    "start_time": "2024-05-23T03:46:44.612Z"
   },
   {
    "duration": 599,
    "start_time": "2024-05-23T03:47:02.424Z"
   },
   {
    "duration": 506,
    "start_time": "2024-05-23T03:47:08.014Z"
   },
   {
    "duration": 409,
    "start_time": "2024-05-23T03:47:18.001Z"
   },
   {
    "duration": 312,
    "start_time": "2024-05-23T03:47:57.533Z"
   },
   {
    "duration": 159,
    "start_time": "2024-05-23T03:49:36.908Z"
   },
   {
    "duration": 823,
    "start_time": "2024-05-23T03:50:29.481Z"
   },
   {
    "duration": 14177,
    "start_time": "2024-05-23T03:51:26.551Z"
   },
   {
    "duration": 6296,
    "start_time": "2024-05-23T03:51:40.730Z"
   },
   {
    "duration": 4614,
    "start_time": "2024-05-23T03:51:47.028Z"
   },
   {
    "duration": 717,
    "start_time": "2024-05-23T03:51:51.702Z"
   },
   {
    "duration": 102,
    "start_time": "2024-05-23T03:51:52.421Z"
   },
   {
    "duration": 2894,
    "start_time": "2024-05-23T03:51:52.524Z"
   },
   {
    "duration": 12,
    "start_time": "2024-05-23T03:51:55.419Z"
   },
   {
    "duration": 73,
    "start_time": "2024-05-23T03:51:55.432Z"
   },
   {
    "duration": 5,
    "start_time": "2024-05-23T03:51:55.507Z"
   },
   {
    "duration": 1608,
    "start_time": "2024-05-23T03:51:55.513Z"
   },
   {
    "duration": 91,
    "start_time": "2024-05-23T03:51:57.123Z"
   },
   {
    "duration": 1002,
    "start_time": "2024-05-23T03:51:57.215Z"
   },
   {
    "duration": 5,
    "start_time": "2024-05-23T03:51:58.218Z"
   },
   {
    "duration": 502,
    "start_time": "2024-05-23T03:51:58.226Z"
   },
   {
    "duration": 281,
    "start_time": "2024-05-23T03:51:58.729Z"
   },
   {
    "duration": 177,
    "start_time": "2024-05-23T03:52:14.328Z"
   },
   {
    "duration": 174,
    "start_time": "2024-05-23T03:52:24.328Z"
   },
   {
    "duration": 1932,
    "start_time": "2024-05-23T03:52:36.200Z"
   },
   {
    "duration": 2942,
    "start_time": "2024-05-23T03:52:50.591Z"
   },
   {
    "duration": 700,
    "start_time": "2024-05-23T03:53:03.834Z"
   },
   {
    "duration": 435,
    "start_time": "2024-05-23T03:53:19.389Z"
   },
   {
    "duration": 718,
    "start_time": "2024-05-23T03:53:34.921Z"
   },
   {
    "duration": 9,
    "start_time": "2024-05-23T03:53:36.120Z"
   },
   {
    "duration": 745,
    "start_time": "2024-05-23T03:53:53.365Z"
   },
   {
    "duration": 9,
    "start_time": "2024-05-23T03:54:05.205Z"
   },
   {
    "duration": 1465,
    "start_time": "2024-05-23T03:54:16.722Z"
   },
   {
    "duration": 605,
    "start_time": "2024-05-23T03:54:21.323Z"
   },
   {
    "duration": 5,
    "start_time": "2024-05-23T03:54:24.328Z"
   },
   {
    "duration": 511,
    "start_time": "2024-05-23T03:54:26.408Z"
   },
   {
    "duration": 1024,
    "start_time": "2024-05-23T03:54:30.985Z"
   },
   {
    "duration": 4,
    "start_time": "2024-05-23T03:54:44.716Z"
   },
   {
    "duration": 143,
    "start_time": "2024-05-23T03:55:02.708Z"
   },
   {
    "duration": 844,
    "start_time": "2024-05-23T03:56:10.279Z"
   },
   {
    "duration": 3,
    "start_time": "2024-05-23T03:58:31.379Z"
   },
   {
    "duration": 2,
    "start_time": "2024-05-23T03:58:43.680Z"
   },
   {
    "duration": 6,
    "start_time": "2024-05-23T03:58:56.751Z"
   },
   {
    "duration": 1130,
    "start_time": "2024-05-23T04:06:46.614Z"
   },
   {
    "duration": 16475,
    "start_time": "2024-05-23T11:45:47.024Z"
   },
   {
    "duration": 9676,
    "start_time": "2024-05-23T11:46:03.502Z"
   },
   {
    "duration": 5794,
    "start_time": "2024-05-23T11:46:13.184Z"
   },
   {
    "duration": 1004,
    "start_time": "2024-05-23T11:46:18.980Z"
   },
   {
    "duration": 111,
    "start_time": "2024-05-23T11:46:19.986Z"
   },
   {
    "duration": 3993,
    "start_time": "2024-05-23T11:46:20.098Z"
   },
   {
    "duration": 13,
    "start_time": "2024-05-23T11:46:24.093Z"
   },
   {
    "duration": 69,
    "start_time": "2024-05-23T11:46:24.107Z"
   },
   {
    "duration": 6,
    "start_time": "2024-05-23T11:46:24.178Z"
   },
   {
    "duration": 2512,
    "start_time": "2024-05-23T11:46:24.186Z"
   },
   {
    "duration": 173,
    "start_time": "2024-05-23T11:46:26.700Z"
   },
   {
    "duration": 1421,
    "start_time": "2024-05-23T11:46:26.875Z"
   },
   {
    "duration": 75,
    "start_time": "2024-05-23T11:46:28.298Z"
   },
   {
    "duration": 343,
    "start_time": "2024-05-23T11:48:13.643Z"
   },
   {
    "duration": 380,
    "start_time": "2024-05-23T11:49:16.299Z"
   },
   {
    "duration": 383,
    "start_time": "2024-05-23T11:52:02.335Z"
   },
   {
    "duration": 3243,
    "start_time": "2024-05-23T11:52:12.067Z"
   },
   {
    "duration": 2991,
    "start_time": "2024-05-23T11:52:20.695Z"
   },
   {
    "duration": 703,
    "start_time": "2024-05-23T11:53:07.778Z"
   },
   {
    "duration": 12,
    "start_time": "2024-05-23T11:54:09.193Z"
   },
   {
    "duration": 1459,
    "start_time": "2024-05-23T11:54:17.515Z"
   },
   {
    "duration": 2115,
    "start_time": "2024-05-23T11:54:20.964Z"
   },
   {
    "duration": 9,
    "start_time": "2024-05-23T11:56:31.644Z"
   },
   {
    "duration": 1850,
    "start_time": "2024-05-23T12:02:29.629Z"
   },
   {
    "duration": 18,
    "start_time": "2024-05-23T12:05:00.664Z"
   },
   {
    "duration": 652,
    "start_time": "2024-05-23T12:05:12.735Z"
   },
   {
    "duration": 1250,
    "start_time": "2024-05-23T12:06:26.052Z"
   },
   {
    "duration": 1152,
    "start_time": "2024-05-23T12:08:00.701Z"
   },
   {
    "duration": 1940,
    "start_time": "2024-05-23T12:10:05.750Z"
   },
   {
    "duration": 607,
    "start_time": "2024-05-23T12:11:42.614Z"
   },
   {
    "duration": 94,
    "start_time": "2024-05-23T12:15:09.290Z"
   },
   {
    "duration": 8,
    "start_time": "2024-05-23T12:15:35.295Z"
   },
   {
    "duration": 91,
    "start_time": "2024-05-23T12:15:45.363Z"
   },
   {
    "duration": 12,
    "start_time": "2024-05-23T12:16:02.274Z"
   },
   {
    "duration": 429,
    "start_time": "2024-05-23T12:16:02.288Z"
   },
   {
    "duration": 2176,
    "start_time": "2024-05-23T12:16:02.772Z"
   },
   {
    "duration": 306,
    "start_time": "2024-05-23T12:16:04.974Z"
   },
   {
    "duration": 25,
    "start_time": "2024-05-23T12:16:05.282Z"
   },
   {
    "duration": 1638,
    "start_time": "2024-05-23T12:16:05.373Z"
   },
   {
    "duration": 62,
    "start_time": "2024-05-23T12:16:07.013Z"
   },
   {
    "duration": 7,
    "start_time": "2024-05-23T12:16:07.077Z"
   },
   {
    "duration": 22,
    "start_time": "2024-05-23T12:16:07.086Z"
   },
   {
    "duration": 621,
    "start_time": "2024-05-23T12:16:07.110Z"
   },
   {
    "duration": 51,
    "start_time": "2024-05-23T12:16:07.733Z"
   },
   {
    "duration": 501,
    "start_time": "2024-05-23T12:16:07.786Z"
   },
   {
    "duration": 9,
    "start_time": "2024-05-23T12:16:08.289Z"
   },
   {
    "duration": 373,
    "start_time": "2024-05-23T12:16:08.300Z"
   },
   {
    "duration": 203,
    "start_time": "2024-05-23T12:16:08.675Z"
   },
   {
    "duration": 1117,
    "start_time": "2024-05-23T12:16:08.880Z"
   },
   {
    "duration": 1731,
    "start_time": "2024-05-23T12:17:01.053Z"
   },
   {
    "duration": 538,
    "start_time": "2024-05-23T12:17:06.891Z"
   },
   {
    "duration": 1303,
    "start_time": "2024-05-23T12:17:24.572Z"
   },
   {
    "duration": 1804,
    "start_time": "2024-05-23T12:17:31.886Z"
   },
   {
    "duration": 946,
    "start_time": "2024-05-23T12:17:52.866Z"
   },
   {
    "duration": 344,
    "start_time": "2024-05-23T12:18:18.693Z"
   },
   {
    "duration": 47,
    "start_time": "2024-05-23T12:21:34.333Z"
   },
   {
    "duration": 41,
    "start_time": "2024-05-23T12:21:45.693Z"
   },
   {
    "duration": 1301,
    "start_time": "2024-05-23T12:21:57.089Z"
   },
   {
    "duration": 1826,
    "start_time": "2024-05-23T12:30:43.381Z"
   },
   {
    "duration": 16,
    "start_time": "2024-05-23T12:33:36.683Z"
   },
   {
    "duration": 778,
    "start_time": "2024-05-23T12:33:48.721Z"
   },
   {
    "duration": 12036,
    "start_time": "2024-05-23T12:35:44.190Z"
   },
   {
    "duration": 8,
    "start_time": "2024-05-23T12:37:29.000Z"
   },
   {
    "duration": 381,
    "start_time": "2024-05-23T12:37:29.010Z"
   },
   {
    "duration": 1549,
    "start_time": "2024-05-23T12:37:29.393Z"
   },
   {
    "duration": 245,
    "start_time": "2024-05-23T12:37:30.944Z"
   },
   {
    "duration": 1785,
    "start_time": "2024-05-23T12:37:31.192Z"
   },
   {
    "duration": 8,
    "start_time": "2024-05-23T12:37:32.979Z"
   },
   {
    "duration": 4961,
    "start_time": "2024-05-23T12:37:32.989Z"
   },
   {
    "duration": 5279,
    "start_time": "2024-05-23T12:37:54.680Z"
   },
   {
    "duration": 26,
    "start_time": "2024-05-23T12:38:40.515Z"
   },
   {
    "duration": 3079,
    "start_time": "2024-05-23T12:40:39.826Z"
   },
   {
    "duration": 2168,
    "start_time": "2024-05-23T12:41:10.393Z"
   },
   {
    "duration": 800,
    "start_time": "2024-05-23T12:46:31.153Z"
   },
   {
    "duration": 1884,
    "start_time": "2024-05-23T12:47:01.055Z"
   },
   {
    "duration": 16638,
    "start_time": "2024-05-23T12:56:35.372Z"
   },
   {
    "duration": 9376,
    "start_time": "2024-05-23T12:56:52.013Z"
   },
   {
    "duration": 5703,
    "start_time": "2024-05-23T12:57:01.392Z"
   },
   {
    "duration": 984,
    "start_time": "2024-05-23T12:57:07.097Z"
   },
   {
    "duration": 3223,
    "start_time": "2024-05-23T12:57:08.083Z"
   },
   {
    "duration": 75,
    "start_time": "2024-05-23T12:57:11.308Z"
   },
   {
    "duration": 6117,
    "start_time": "2024-05-23T12:57:11.386Z"
   },
   {
    "duration": 87,
    "start_time": "2024-05-23T12:57:17.506Z"
   },
   {
    "duration": 4790,
    "start_time": "2024-05-23T12:57:17.596Z"
   },
   {
    "duration": 8,
    "start_time": "2024-05-23T12:57:22.388Z"
   },
   {
    "duration": 29,
    "start_time": "2024-05-23T12:57:22.398Z"
   },
   {
    "duration": 2270,
    "start_time": "2024-05-23T12:57:22.429Z"
   },
   {
    "duration": 101,
    "start_time": "2024-05-23T12:57:24.701Z"
   },
   {
    "duration": 1368,
    "start_time": "2024-05-23T12:57:24.805Z"
   },
   {
    "duration": 9,
    "start_time": "2024-05-23T12:57:26.175Z"
   },
   {
    "duration": 403,
    "start_time": "2024-05-23T12:57:26.185Z"
   },
   {
    "duration": 336,
    "start_time": "2024-05-23T12:57:26.591Z"
   },
   {
    "duration": 2731,
    "start_time": "2024-05-23T12:57:26.974Z"
   },
   {
    "duration": 3902,
    "start_time": "2024-05-23T12:57:29.706Z"
   },
   {
    "duration": 905,
    "start_time": "2024-05-23T12:57:33.674Z"
   },
   {
    "duration": 1426,
    "start_time": "2024-05-23T12:57:34.581Z"
   },
   {
    "duration": 2691,
    "start_time": "2024-05-23T12:57:36.009Z"
   },
   {
    "duration": 1182,
    "start_time": "2024-05-23T12:57:38.701Z"
   },
   {
    "duration": 141,
    "start_time": "2024-05-23T12:57:39.885Z"
   },
   {
    "duration": 0,
    "start_time": "2024-05-23T12:57:40.027Z"
   },
   {
    "duration": 0,
    "start_time": "2024-05-23T12:57:40.029Z"
   },
   {
    "duration": 2101,
    "start_time": "2024-05-23T12:58:32.412Z"
   },
   {
    "duration": 631,
    "start_time": "2024-05-23T12:58:40.089Z"
   },
   {
    "duration": 17,
    "start_time": "2024-05-23T12:58:46.472Z"
   },
   {
    "duration": 1487,
    "start_time": "2024-05-23T12:58:58.955Z"
   },
   {
    "duration": 16679,
    "start_time": "2024-05-23T13:01:49.829Z"
   },
   {
    "duration": 9075,
    "start_time": "2024-05-23T13:02:06.511Z"
   },
   {
    "duration": 6012,
    "start_time": "2024-05-23T13:02:15.587Z"
   },
   {
    "duration": 1006,
    "start_time": "2024-05-23T13:02:21.600Z"
   },
   {
    "duration": 3597,
    "start_time": "2024-05-23T13:02:22.608Z"
   },
   {
    "duration": 15,
    "start_time": "2024-05-23T13:02:26.207Z"
   },
   {
    "duration": 5755,
    "start_time": "2024-05-23T13:02:26.224Z"
   },
   {
    "duration": 104,
    "start_time": "2024-05-23T13:02:31.981Z"
   },
   {
    "duration": 5107,
    "start_time": "2024-05-23T13:02:32.088Z"
   },
   {
    "duration": 9,
    "start_time": "2024-05-23T13:02:37.197Z"
   },
   {
    "duration": 44,
    "start_time": "2024-05-23T13:02:37.208Z"
   },
   {
    "duration": 2553,
    "start_time": "2024-05-23T13:02:37.254Z"
   },
   {
    "duration": 105,
    "start_time": "2024-05-23T13:02:39.810Z"
   },
   {
    "duration": 1437,
    "start_time": "2024-05-23T13:02:39.974Z"
   },
   {
    "duration": 65,
    "start_time": "2024-05-23T13:02:41.413Z"
   },
   {
    "duration": 504,
    "start_time": "2024-05-23T13:02:41.480Z"
   },
   {
    "duration": 387,
    "start_time": "2024-05-23T13:02:41.986Z"
   },
   {
    "duration": 3820,
    "start_time": "2024-05-23T13:02:42.375Z"
   },
   {
    "duration": 3688,
    "start_time": "2024-05-23T13:02:46.197Z"
   },
   {
    "duration": 893,
    "start_time": "2024-05-23T13:02:49.887Z"
   },
   {
    "duration": 1304,
    "start_time": "2024-05-23T13:02:50.783Z"
   },
   {
    "duration": 2201,
    "start_time": "2024-05-23T13:02:52.089Z"
   },
   {
    "duration": 740,
    "start_time": "2024-05-23T13:02:54.292Z"
   },
   {
    "duration": 2247,
    "start_time": "2024-05-23T13:02:55.033Z"
   },
   {
    "duration": 596,
    "start_time": "2024-05-23T13:02:57.282Z"
   },
   {
    "duration": 1615,
    "start_time": "2024-05-23T13:02:57.880Z"
   },
   {
    "duration": 17345,
    "start_time": "2024-05-23T13:03:34.833Z"
   },
   {
    "duration": 9911,
    "start_time": "2024-05-23T13:03:52.182Z"
   },
   {
    "duration": 6889,
    "start_time": "2024-05-23T13:04:02.095Z"
   },
   {
    "duration": 997,
    "start_time": "2024-05-23T13:04:08.987Z"
   },
   {
    "duration": 3319,
    "start_time": "2024-05-23T13:04:09.986Z"
   },
   {
    "duration": 187,
    "start_time": "2024-05-23T13:04:13.307Z"
   },
   {
    "duration": 5915,
    "start_time": "2024-05-23T13:04:13.496Z"
   },
   {
    "duration": 87,
    "start_time": "2024-05-23T13:04:19.412Z"
   },
   {
    "duration": 4681,
    "start_time": "2024-05-23T13:04:19.501Z"
   },
   {
    "duration": 8,
    "start_time": "2024-05-23T13:04:24.184Z"
   },
   {
    "duration": 10,
    "start_time": "2024-05-23T13:04:24.194Z"
   },
   {
    "duration": 2291,
    "start_time": "2024-05-23T13:04:24.205Z"
   },
   {
    "duration": 122,
    "start_time": "2024-05-23T13:04:26.498Z"
   },
   {
    "duration": 1454,
    "start_time": "2024-05-23T13:04:26.624Z"
   },
   {
    "duration": 11,
    "start_time": "2024-05-23T13:04:28.080Z"
   },
   {
    "duration": 492,
    "start_time": "2024-05-23T13:04:28.093Z"
   },
   {
    "duration": 386,
    "start_time": "2024-05-23T13:04:28.587Z"
   },
   {
    "duration": 3107,
    "start_time": "2024-05-23T13:04:28.974Z"
   },
   {
    "duration": 4094,
    "start_time": "2024-05-23T13:04:32.083Z"
   },
   {
    "duration": 994,
    "start_time": "2024-05-23T13:04:36.179Z"
   },
   {
    "duration": 1146,
    "start_time": "2024-05-23T13:04:37.175Z"
   },
   {
    "duration": 1887,
    "start_time": "2024-05-23T13:04:38.323Z"
   },
   {
    "duration": 1009,
    "start_time": "2024-05-23T13:04:40.212Z"
   },
   {
    "duration": 2018,
    "start_time": "2024-05-23T13:04:41.223Z"
   },
   {
    "duration": 777,
    "start_time": "2024-05-23T13:04:43.243Z"
   },
   {
    "duration": 1343,
    "start_time": "2024-05-23T13:04:44.074Z"
   },
   {
    "duration": 727,
    "start_time": "2024-05-24T00:15:01.182Z"
   },
   {
    "duration": 0,
    "start_time": "2024-05-24T00:15:01.910Z"
   },
   {
    "duration": 3,
    "start_time": "2024-05-24T00:17:27.469Z"
   },
   {
    "duration": 13867,
    "start_time": "2024-05-24T00:17:37.277Z"
   },
   {
    "duration": 6601,
    "start_time": "2024-05-24T00:17:54.226Z"
   },
   {
    "duration": 4476,
    "start_time": "2024-05-24T00:18:03.952Z"
   },
   {
    "duration": 670,
    "start_time": "2024-05-24T00:18:12.733Z"
   },
   {
    "duration": 11,
    "start_time": "2024-05-24T00:23:25.070Z"
   },
   {
    "duration": 529,
    "start_time": "2024-05-24T00:23:38.591Z"
   },
   {
    "duration": 531,
    "start_time": "2024-05-24T00:24:54.578Z"
   },
   {
    "duration": 374,
    "start_time": "2024-05-24T00:25:04.761Z"
   },
   {
    "duration": 6,
    "start_time": "2024-05-24T00:28:06.339Z"
   },
   {
    "duration": 4,
    "start_time": "2024-05-24T00:29:15.567Z"
   },
   {
    "duration": 9,
    "start_time": "2024-05-24T00:29:24.955Z"
   },
   {
    "duration": 28,
    "start_time": "2024-05-24T00:29:31.305Z"
   },
   {
    "duration": 4,
    "start_time": "2024-05-24T00:29:38.952Z"
   },
   {
    "duration": 1823,
    "start_time": "2024-05-24T00:30:10.689Z"
   },
   {
    "duration": 30,
    "start_time": "2024-05-24T00:30:23.817Z"
   },
   {
    "duration": 1011,
    "start_time": "2024-05-24T00:30:25.721Z"
   },
   {
    "duration": 6,
    "start_time": "2024-05-24T00:30:33.823Z"
   },
   {
    "duration": 416,
    "start_time": "2024-05-24T00:30:36.488Z"
   },
   {
    "duration": 346,
    "start_time": "2024-05-24T00:30:42.120Z"
   },
   {
    "duration": 2737,
    "start_time": "2024-05-24T00:30:45.194Z"
   },
   {
    "duration": 2581,
    "start_time": "2024-05-24T00:30:49.535Z"
   },
   {
    "duration": 9,
    "start_time": "2024-05-24T00:30:53.771Z"
   },
   {
    "duration": 7,
    "start_time": "2024-05-24T00:31:29.121Z"
   },
   {
    "duration": 122,
    "start_time": "2024-05-24T00:31:33.798Z"
   },
   {
    "duration": 967,
    "start_time": "2024-05-24T00:31:43.642Z"
   },
   {
    "duration": 87,
    "start_time": "2024-05-24T00:31:48.471Z"
   },
   {
    "duration": 3,
    "start_time": "2024-05-24T00:31:58.844Z"
   },
   {
    "duration": 16,
    "start_time": "2024-05-24T00:31:58.852Z"
   },
   {
    "duration": 334,
    "start_time": "2024-05-24T00:31:58.902Z"
   },
   {
    "duration": 1829,
    "start_time": "2024-05-24T00:31:59.238Z"
   },
   {
    "duration": 262,
    "start_time": "2024-05-24T00:32:01.068Z"
   },
   {
    "duration": 1796,
    "start_time": "2024-05-24T00:32:01.332Z"
   },
   {
    "duration": 6,
    "start_time": "2024-05-24T00:32:03.129Z"
   },
   {
    "duration": 4493,
    "start_time": "2024-05-24T00:32:03.137Z"
   },
   {
    "duration": 28,
    "start_time": "2024-05-24T00:32:07.631Z"
   },
   {
    "duration": 2831,
    "start_time": "2024-05-24T00:32:07.702Z"
   },
   {
    "duration": 4,
    "start_time": "2024-05-24T00:32:10.535Z"
   },
   {
    "duration": 61,
    "start_time": "2024-05-24T00:32:10.541Z"
   },
   {
    "duration": 555,
    "start_time": "2024-05-24T00:32:10.604Z"
   },
   {
    "duration": 51,
    "start_time": "2024-05-24T00:32:11.160Z"
   },
   {
    "duration": 497,
    "start_time": "2024-05-24T00:32:11.213Z"
   },
   {
    "duration": 4,
    "start_time": "2024-05-24T00:32:11.712Z"
   },
   {
    "duration": 225,
    "start_time": "2024-05-24T00:32:11.717Z"
   },
   {
    "duration": 214,
    "start_time": "2024-05-24T00:32:11.943Z"
   },
   {
    "duration": 845,
    "start_time": "2024-05-24T00:32:12.158Z"
   },
   {
    "duration": 1456,
    "start_time": "2024-05-24T00:33:27.468Z"
   },
   {
    "duration": 625,
    "start_time": "2024-05-24T00:33:28.926Z"
   },
   {
    "duration": 851,
    "start_time": "2024-05-24T00:33:44.104Z"
   },
   {
    "duration": 1438,
    "start_time": "2024-05-24T00:33:46.769Z"
   },
   {
    "duration": 518,
    "start_time": "2024-05-24T00:33:55.584Z"
   },
   {
    "duration": 1360,
    "start_time": "2024-05-24T00:34:04.158Z"
   },
   {
    "duration": 465,
    "start_time": "2024-05-24T00:34:14.873Z"
   },
   {
    "duration": 1004,
    "start_time": "2024-05-24T00:34:36.523Z"
   }
  ],
  "colab": {
   "name": "PySparkSprint.ipynb",
   "provenance": []
  },
  "kernelspec": {
   "display_name": "Python 3 (ipykernel)",
   "language": "python",
   "name": "python3"
  },
  "language_info": {
   "codemirror_mode": {
    "name": "ipython",
    "version": 3
   },
   "file_extension": ".py",
   "mimetype": "text/x-python",
   "name": "python",
   "nbconvert_exporter": "python",
   "pygments_lexer": "ipython3",
   "version": "3.9.18"
  },
  "toc": {
   "base_numbering": 1,
   "nav_menu": {},
   "number_sections": true,
   "sideBar": true,
   "skip_h1_title": true,
   "title_cell": "Table of Contents",
   "title_sidebar": "Contents",
   "toc_cell": false,
   "toc_position": {},
   "toc_section_display": true,
   "toc_window_display": false
  }
 },
 "nbformat": 4,
 "nbformat_minor": 5
}
